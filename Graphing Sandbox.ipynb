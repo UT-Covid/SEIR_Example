{
 "cells": [
  {
   "cell_type": "code",
   "execution_count": 2,
   "metadata": {},
   "outputs": [],
   "source": [
    "import pandas as pd\n",
    "import matplotlib.pyplot as plt\n",
    "import seaborn as sns\n",
    "import os"
   ]
  },
  {
   "cell_type": "code",
   "execution_count": 17,
   "metadata": {},
   "outputs": [],
   "source": [
    "scenario1 = [i for i in os.listdir('/Users/kpierce/SEIR_Example/outputs/scenario_1/') if 'results' in i]"
   ]
  },
  {
   "cell_type": "code",
   "execution_count": 18,
   "metadata": {},
   "outputs": [
    {
     "data": {
      "text/plain": [
       "['results_9.csv',\n",
       " 'results_8.csv',\n",
       " 'results_6.csv',\n",
       " 'results_7.csv',\n",
       " 'results_5.csv',\n",
       " 'results_4.csv',\n",
       " 'results_1.csv',\n",
       " 'results_3.csv',\n",
       " 'results_2.csv',\n",
       " 'results_10.csv']"
      ]
     },
     "execution_count": 18,
     "metadata": {},
     "output_type": "execute_result"
    }
   ],
   "source": [
    "scenario1"
   ]
  },
  {
   "cell_type": "code",
   "execution_count": 32,
   "metadata": {},
   "outputs": [],
   "source": [
    "all_results = []\n",
    "for s1 in scenario1:\n",
    "    df = pd.read_csv(os.path.join('/Users/kpierce/SEIR_Example/outputs/scenario_1/', s1))\n",
    "    all_results.append(df)\n",
    "all_results_df = pd.DataFrame(pd.concat(all_results))"
   ]
  },
  {
   "cell_type": "code",
   "execution_count": 26,
   "metadata": {},
   "outputs": [
    {
     "data": {
      "text/html": [
       "<div>\n",
       "<style scoped>\n",
       "    .dataframe tbody tr th:only-of-type {\n",
       "        vertical-align: middle;\n",
       "    }\n",
       "\n",
       "    .dataframe tbody tr th {\n",
       "        vertical-align: top;\n",
       "    }\n",
       "\n",
       "    .dataframe thead th {\n",
       "        text-align: right;\n",
       "    }\n",
       "</style>\n",
       "<table border=\"1\" class=\"dataframe\">\n",
       "  <thead>\n",
       "    <tr style=\"text-align: right;\">\n",
       "      <th></th>\n",
       "      <th>sim_index</th>\n",
       "      <th>time</th>\n",
       "      <th>susceptible</th>\n",
       "      <th>exposed</th>\n",
       "      <th>infected</th>\n",
       "      <th>recovered</th>\n",
       "    </tr>\n",
       "  </thead>\n",
       "  <tbody>\n",
       "    <tr>\n",
       "      <th>0</th>\n",
       "      <td>9</td>\n",
       "      <td>0</td>\n",
       "      <td>10000.000000</td>\n",
       "      <td>7.000000</td>\n",
       "      <td>3.000000</td>\n",
       "      <td>0.000000</td>\n",
       "    </tr>\n",
       "    <tr>\n",
       "      <th>1</th>\n",
       "      <td>9</td>\n",
       "      <td>1</td>\n",
       "      <td>9999.940060</td>\n",
       "      <td>6.709940</td>\n",
       "      <td>3.290000</td>\n",
       "      <td>0.060000</td>\n",
       "    </tr>\n",
       "    <tr>\n",
       "      <th>2</th>\n",
       "      <td>9</td>\n",
       "      <td>2</td>\n",
       "      <td>9999.814386</td>\n",
       "      <td>6.500117</td>\n",
       "      <td>3.559697</td>\n",
       "      <td>0.125800</td>\n",
       "    </tr>\n",
       "    <tr>\n",
       "      <th>3</th>\n",
       "      <td>9</td>\n",
       "      <td>3</td>\n",
       "      <td>9999.617591</td>\n",
       "      <td>6.371907</td>\n",
       "      <td>3.813509</td>\n",
       "      <td>0.196994</td>\n",
       "    </tr>\n",
       "    <tr>\n",
       "      <th>4</th>\n",
       "      <td>9</td>\n",
       "      <td>4</td>\n",
       "      <td>9999.344604</td>\n",
       "      <td>6.326298</td>\n",
       "      <td>4.055834</td>\n",
       "      <td>0.273264</td>\n",
       "    </tr>\n",
       "  </tbody>\n",
       "</table>\n",
       "</div>"
      ],
      "text/plain": [
       "              sim_index                  time           susceptible  \\\n",
       "0                     9                     0          10000.000000   \n",
       "1                     9                     1           9999.940060   \n",
       "2                     9                     2           9999.814386   \n",
       "3                     9                     3           9999.617591   \n",
       "4                     9                     4           9999.344604   \n",
       "\n",
       "                exposed              infected             recovered  \n",
       "0              7.000000              3.000000              0.000000  \n",
       "1              6.709940              3.290000              0.060000  \n",
       "2              6.500117              3.559697              0.125800  \n",
       "3              6.371907              3.813509              0.196994  \n",
       "4              6.326298              4.055834              0.273264  "
      ]
     },
     "execution_count": 26,
     "metadata": {},
     "output_type": "execute_result"
    }
   ],
   "source": [
    "all_results_df.head()"
   ]
  },
  {
   "cell_type": "code",
   "execution_count": 33,
   "metadata": {},
   "outputs": [],
   "source": [
    "all_results_df.columns = ['sim_index', 'time', 'susceptible', 'exposed', 'infected', 'recovered']"
   ]
  },
  {
   "cell_type": "code",
   "execution_count": 35,
   "metadata": {},
   "outputs": [
    {
     "data": {
      "image/png": "[encoded data removed]",
      "text/plain": [
       "<Figure size 432x288 with 1 Axes>"
      ]
     },
     "metadata": {
      "needs_background": "light"
     },
     "output_type": "display_data"
    }
   ],
   "source": [
    "ax = sns.lineplot(x=all_results_df[\"time\"], y=all_results_df[\"infected\"], data=all_results_df)"
   ]
  },
  {
   "cell_type": "code",
   "execution_count": null,
   "metadata": {},
   "outputs": [],
   "source": []
  }
 ],
 "metadata": {
  "kernelspec": {
   "display_name": "ctr_venv",
   "language": "python",
   "name": "ctr_venv"
  },
  "language_info": {
   "codemirror_mode": {
    "name": "ipython",
    "version": 3
   },
   "file_extension": ".py",
   "mimetype": "text/x-python",
   "name": "python",
   "nbconvert_exporter": "python",
   "pygments_lexer": "ipython3",
   "version": "3.7.5"
  }
 },
 "nbformat": 4,
 "nbformat_minor": 2
}
