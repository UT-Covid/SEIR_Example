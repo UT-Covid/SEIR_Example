{
 "cells": [
  {
   "cell_type": "code",
   "execution_count": 1,
   "metadata": {},
   "outputs": [],
   "source": [
    "import pandas as pd\n",
    "import numpy as np\n",
    "import matplotlib.pyplot as plt\n",
    "import xarray\n",
    "from src.seir import *\n",
    "from src.implicit_node import *\n",
    "from copy import deepcopy"
   ]
  },
  {
   "cell_type": "markdown",
   "metadata": {},
   "source": [
    "requirements for model run\n",
    "- travel data frame\n",
    "- baseline contact\n",
    "- starting population sizes\n",
    "- epi params"
   ]
  },
  {
   "cell_type": "code",
   "execution_count": 2,
   "metadata": {},
   "outputs": [],
   "source": [
    "params_template = {\n",
    "  \"mu\": 0.0,\n",
    "  \"sigma\": 0.5,\n",
    "  \"beta\": 0.1,\n",
    "  \"gamma\": 0.2,\n",
    "  \"omega\": 0.1,\n",
    "  \"start_S\": [[24, 0], [49, 0]],\n",
    "  \"start_E\": [[0, 0], [0, 0]],\n",
    "  \"start_I\": [[1, 0], [1, 0]],\n",
    "  \"start_R\": [[0, 0], [0, 0]],\n",
    "  \"days\": 30,\n",
    "  \"outpath\": \"outputs/multiple_nodes\",\n",
    "  \"phi\": [], # fill in after partitioning\n",
    "  \"n_sims\": 1,\n",
    "  \"stochastic\": \"False\",\n",
    "  \"n_age\": 2,\n",
    "  \"n_nodes\": 2,\n",
    "  \"sim_idx\": 0 # single deterministic run\n",
    "}"
   ]
  },
  {
   "cell_type": "code",
   "execution_count": 3,
   "metadata": {},
   "outputs": [],
   "source": [
    "travel = pd.read_csv('inputs/travel2.csv')"
   ]
  },
  {
   "cell_type": "code",
   "execution_count": 4,
   "metadata": {},
   "outputs": [
    {
     "data": {
      "text/html": [
       "<div>\n",
       "<style scoped>\n",
       "    .dataframe tbody tr th:only-of-type {\n",
       "        vertical-align: middle;\n",
       "    }\n",
       "\n",
       "    .dataframe tbody tr th {\n",
       "        vertical-align: top;\n",
       "    }\n",
       "\n",
       "    .dataframe thead th {\n",
       "        text-align: right;\n",
       "    }\n",
       "</style>\n",
       "<table border=\"1\" class=\"dataframe\">\n",
       "  <thead>\n",
       "    <tr style=\"text-align: right;\">\n",
       "      <th></th>\n",
       "      <th>source</th>\n",
       "      <th>destination</th>\n",
       "      <th>destination_type</th>\n",
       "      <th>age_src</th>\n",
       "      <th>age_dest</th>\n",
       "      <th>n</th>\n",
       "    </tr>\n",
       "  </thead>\n",
       "  <tbody>\n",
       "    <tr>\n",
       "      <th>0</th>\n",
       "      <td>A</td>\n",
       "      <td>A</td>\n",
       "      <td>local</td>\n",
       "      <td>young</td>\n",
       "      <td>young</td>\n",
       "      <td>0</td>\n",
       "    </tr>\n",
       "    <tr>\n",
       "      <th>1</th>\n",
       "      <td>A</td>\n",
       "      <td>A</td>\n",
       "      <td>local</td>\n",
       "      <td>old</td>\n",
       "      <td>old</td>\n",
       "      <td>0</td>\n",
       "    </tr>\n",
       "    <tr>\n",
       "      <th>2</th>\n",
       "      <td>A</td>\n",
       "      <td>school</td>\n",
       "      <td>contextual</td>\n",
       "      <td>young</td>\n",
       "      <td>young</td>\n",
       "      <td>25</td>\n",
       "    </tr>\n",
       "    <tr>\n",
       "      <th>3</th>\n",
       "      <td>A</td>\n",
       "      <td>school</td>\n",
       "      <td>contextual</td>\n",
       "      <td>old</td>\n",
       "      <td>old</td>\n",
       "      <td>0</td>\n",
       "    </tr>\n",
       "    <tr>\n",
       "      <th>4</th>\n",
       "      <td>B</td>\n",
       "      <td>B</td>\n",
       "      <td>local</td>\n",
       "      <td>young</td>\n",
       "      <td>young</td>\n",
       "      <td>0</td>\n",
       "    </tr>\n",
       "    <tr>\n",
       "      <th>5</th>\n",
       "      <td>B</td>\n",
       "      <td>B</td>\n",
       "      <td>local</td>\n",
       "      <td>old</td>\n",
       "      <td>old</td>\n",
       "      <td>0</td>\n",
       "    </tr>\n",
       "    <tr>\n",
       "      <th>6</th>\n",
       "      <td>B</td>\n",
       "      <td>school</td>\n",
       "      <td>contextual</td>\n",
       "      <td>young</td>\n",
       "      <td>young</td>\n",
       "      <td>50</td>\n",
       "    </tr>\n",
       "    <tr>\n",
       "      <th>7</th>\n",
       "      <td>B</td>\n",
       "      <td>school</td>\n",
       "      <td>contextual</td>\n",
       "      <td>old</td>\n",
       "      <td>old</td>\n",
       "      <td>0</td>\n",
       "    </tr>\n",
       "    <tr>\n",
       "      <th>8</th>\n",
       "      <td>A</td>\n",
       "      <td>B</td>\n",
       "      <td>local</td>\n",
       "      <td>young</td>\n",
       "      <td>young</td>\n",
       "      <td>0</td>\n",
       "    </tr>\n",
       "    <tr>\n",
       "      <th>9</th>\n",
       "      <td>A</td>\n",
       "      <td>B</td>\n",
       "      <td>local</td>\n",
       "      <td>old</td>\n",
       "      <td>old</td>\n",
       "      <td>0</td>\n",
       "    </tr>\n",
       "    <tr>\n",
       "      <th>10</th>\n",
       "      <td>B</td>\n",
       "      <td>A</td>\n",
       "      <td>local</td>\n",
       "      <td>young</td>\n",
       "      <td>young</td>\n",
       "      <td>0</td>\n",
       "    </tr>\n",
       "    <tr>\n",
       "      <th>11</th>\n",
       "      <td>B</td>\n",
       "      <td>A</td>\n",
       "      <td>local</td>\n",
       "      <td>old</td>\n",
       "      <td>old</td>\n",
       "      <td>0</td>\n",
       "    </tr>\n",
       "  </tbody>\n",
       "</table>\n",
       "</div>"
      ],
      "text/plain": [
       "   source destination destination_type age_src age_dest   n\n",
       "0       A           A            local   young    young   0\n",
       "1       A           A            local     old      old   0\n",
       "2       A      school       contextual   young    young  25\n",
       "3       A      school       contextual     old      old   0\n",
       "4       B           B            local   young    young   0\n",
       "5       B           B            local     old      old   0\n",
       "6       B      school       contextual   young    young  50\n",
       "7       B      school       contextual     old      old   0\n",
       "8       A           B            local   young    young   0\n",
       "9       A           B            local     old      old   0\n",
       "10      B           A            local   young    young   0\n",
       "11      B           A            local     old      old   0"
      ]
     },
     "execution_count": 4,
     "metadata": {},
     "output_type": "execute_result"
    }
   ],
   "source": [
    "travel"
   ]
  },
  {
   "cell_type": "code",
   "execution_count": 5,
   "metadata": {},
   "outputs": [],
   "source": [
    "contact = pd.read_csv('inputs/contact.csv')"
   ]
  },
  {
   "cell_type": "code",
   "execution_count": 6,
   "metadata": {},
   "outputs": [
    {
     "name": "stdout",
     "output_type": "stream",
     "text": [
      "mismatched partitioned and baseline contacts\n",
      "age_i                                 young\n",
      "age_j                                 young\n",
      "partitioned_per_capita_contacts    0.143777\n",
      "age1                                  young\n",
      "age2                                  young\n",
      "daily_per_capita_contacts                 5\n",
      "Name: 1, dtype: object\n"
     ]
    }
   ],
   "source": [
    "partition = partition_contacts(travel, contact, daily_timesteps=10)\n",
    "phi_matrix = contact_matrix(partition)"
   ]
  },
  {
   "cell_type": "code",
   "execution_count": 7,
   "metadata": {},
   "outputs": [
    {
     "data": {
      "text/plain": [
       "array([[[[0.01986775, 0.        ],\n",
       "         [0.        , 0.        ]],\n",
       "\n",
       "        [[0.05202077, 0.        ],\n",
       "         [0.        , 0.        ]]],\n",
       "\n",
       "\n",
       "       [[[0.01986775, 0.        ],\n",
       "         [0.        , 0.        ]],\n",
       "\n",
       "        [[0.05202077, 0.        ],\n",
       "         [0.        , 0.        ]]]])"
      ]
     },
     "execution_count": 7,
     "metadata": {},
     "output_type": "execute_result"
    }
   ],
   "source": [
    "phi_matrix"
   ]
  },
  {
   "cell_type": "code",
   "execution_count": 8,
   "metadata": {},
   "outputs": [
    {
     "data": {
      "text/html": [
       "<div><svg style=\"position: absolute; width: 0; height: 0; overflow: hidden\">\n",
       "<defs>\n",
       "<symbol id=\"icon-database\" viewBox=\"0 0 32 32\">\n",
       "<path d=\"M16 0c-8.837 0-16 2.239-16 5v4c0 2.761 7.163 5 16 5s16-2.239 16-5v-4c0-2.761-7.163-5-16-5z\"></path>\n",
       "<path d=\"M16 17c-8.837 0-16-2.239-16-5v6c0 2.761 7.163 5 16 5s16-2.239 16-5v-6c0 2.761-7.163 5-16 5z\"></path>\n",
       "<path d=\"M16 26c-8.837 0-16-2.239-16-5v6c0 2.761 7.163 5 16 5s16-2.239 16-5v-6c0 2.761-7.163 5-16 5z\"></path>\n",
       "</symbol>\n",
       "<symbol id=\"icon-file-text2\" viewBox=\"0 0 32 32\">\n",
       "<path d=\"M28.681 7.159c-0.694-0.947-1.662-2.053-2.724-3.116s-2.169-2.030-3.116-2.724c-1.612-1.182-2.393-1.319-2.841-1.319h-15.5c-1.378 0-2.5 1.121-2.5 2.5v27c0 1.378 1.122 2.5 2.5 2.5h23c1.378 0 2.5-1.122 2.5-2.5v-19.5c0-0.448-0.137-1.23-1.319-2.841zM24.543 5.457c0.959 0.959 1.712 1.825 2.268 2.543h-4.811v-4.811c0.718 0.556 1.584 1.309 2.543 2.268zM28 29.5c0 0.271-0.229 0.5-0.5 0.5h-23c-0.271 0-0.5-0.229-0.5-0.5v-27c0-0.271 0.229-0.5 0.5-0.5 0 0 15.499-0 15.5 0v7c0 0.552 0.448 1 1 1h7v19.5z\"></path>\n",
       "<path d=\"M23 26h-14c-0.552 0-1-0.448-1-1s0.448-1 1-1h14c0.552 0 1 0.448 1 1s-0.448 1-1 1z\"></path>\n",
       "<path d=\"M23 22h-14c-0.552 0-1-0.448-1-1s0.448-1 1-1h14c0.552 0 1 0.448 1 1s-0.448 1-1 1z\"></path>\n",
       "<path d=\"M23 18h-14c-0.552 0-1-0.448-1-1s0.448-1 1-1h14c0.552 0 1 0.448 1 1s-0.448 1-1 1z\"></path>\n",
       "</symbol>\n",
       "</defs>\n",
       "</svg>\n",
       "<style>/* CSS stylesheet for displaying xarray objects in jupyterlab.\n",
       " *\n",
       " */\n",
       "\n",
       ":root {\n",
       "  --xr-font-color0: var(--jp-content-font-color0, rgba(0, 0, 0, 1));\n",
       "  --xr-font-color2: var(--jp-content-font-color2, rgba(0, 0, 0, 0.54));\n",
       "  --xr-font-color3: var(--jp-content-font-color3, rgba(0, 0, 0, 0.38));\n",
       "  --xr-border-color: var(--jp-border-color2, #e0e0e0);\n",
       "  --xr-disabled-color: var(--jp-layout-color3, #bdbdbd);\n",
       "  --xr-background-color: var(--jp-layout-color0, white);\n",
       "  --xr-background-color-row-even: var(--jp-layout-color1, white);\n",
       "  --xr-background-color-row-odd: var(--jp-layout-color2, #eeeeee);\n",
       "}\n",
       "\n",
       "html[theme=dark],\n",
       "body.vscode-dark {\n",
       "  --xr-font-color0: rgba(255, 255, 255, 1);\n",
       "  --xr-font-color2: rgba(255, 255, 255, 0.54);\n",
       "  --xr-font-color3: rgba(255, 255, 255, 0.38);\n",
       "  --xr-border-color: #1F1F1F;\n",
       "  --xr-disabled-color: #515151;\n",
       "  --xr-background-color: #111111;\n",
       "  --xr-background-color-row-even: #111111;\n",
       "  --xr-background-color-row-odd: #313131;\n",
       "}\n",
       "\n",
       ".xr-wrap {\n",
       "  display: block;\n",
       "  min-width: 300px;\n",
       "  max-width: 700px;\n",
       "}\n",
       "\n",
       ".xr-text-repr-fallback {\n",
       "  /* fallback to plain text repr when CSS is not injected (untrusted notebook) */\n",
       "  display: none;\n",
       "}\n",
       "\n",
       ".xr-header {\n",
       "  padding-top: 6px;\n",
       "  padding-bottom: 6px;\n",
       "  margin-bottom: 4px;\n",
       "  border-bottom: solid 1px var(--xr-border-color);\n",
       "}\n",
       "\n",
       ".xr-header > div,\n",
       ".xr-header > ul {\n",
       "  display: inline;\n",
       "  margin-top: 0;\n",
       "  margin-bottom: 0;\n",
       "}\n",
       "\n",
       ".xr-obj-type,\n",
       ".xr-array-name {\n",
       "  margin-left: 2px;\n",
       "  margin-right: 10px;\n",
       "}\n",
       "\n",
       ".xr-obj-type {\n",
       "  color: var(--xr-font-color2);\n",
       "}\n",
       "\n",
       ".xr-sections {\n",
       "  padding-left: 0 !important;\n",
       "  display: grid;\n",
       "  grid-template-columns: 150px auto auto 1fr 20px 20px;\n",
       "}\n",
       "\n",
       ".xr-section-item {\n",
       "  display: contents;\n",
       "}\n",
       "\n",
       ".xr-section-item input {\n",
       "  display: none;\n",
       "}\n",
       "\n",
       ".xr-section-item input + label {\n",
       "  color: var(--xr-disabled-color);\n",
       "}\n",
       "\n",
       ".xr-section-item input:enabled + label {\n",
       "  cursor: pointer;\n",
       "  color: var(--xr-font-color2);\n",
       "}\n",
       "\n",
       ".xr-section-item input:enabled + label:hover {\n",
       "  color: var(--xr-font-color0);\n",
       "}\n",
       "\n",
       ".xr-section-summary {\n",
       "  grid-column: 1;\n",
       "  color: var(--xr-font-color2);\n",
       "  font-weight: 500;\n",
       "}\n",
       "\n",
       ".xr-section-summary > span {\n",
       "  display: inline-block;\n",
       "  padding-left: 0.5em;\n",
       "}\n",
       "\n",
       ".xr-section-summary-in:disabled + label {\n",
       "  color: var(--xr-font-color2);\n",
       "}\n",
       "\n",
       ".xr-section-summary-in + label:before {\n",
       "  display: inline-block;\n",
       "  content: '►';\n",
       "  font-size: 11px;\n",
       "  width: 15px;\n",
       "  text-align: center;\n",
       "}\n",
       "\n",
       ".xr-section-summary-in:disabled + label:before {\n",
       "  color: var(--xr-disabled-color);\n",
       "}\n",
       "\n",
       ".xr-section-summary-in:checked + label:before {\n",
       "  content: '▼';\n",
       "}\n",
       "\n",
       ".xr-section-summary-in:checked + label > span {\n",
       "  display: none;\n",
       "}\n",
       "\n",
       ".xr-section-summary,\n",
       ".xr-section-inline-details {\n",
       "  padding-top: 4px;\n",
       "  padding-bottom: 4px;\n",
       "}\n",
       "\n",
       ".xr-section-inline-details {\n",
       "  grid-column: 2 / -1;\n",
       "}\n",
       "\n",
       ".xr-section-details {\n",
       "  display: none;\n",
       "  grid-column: 1 / -1;\n",
       "  margin-bottom: 5px;\n",
       "}\n",
       "\n",
       ".xr-section-summary-in:checked ~ .xr-section-details {\n",
       "  display: contents;\n",
       "}\n",
       "\n",
       ".xr-array-wrap {\n",
       "  grid-column: 1 / -1;\n",
       "  display: grid;\n",
       "  grid-template-columns: 20px auto;\n",
       "}\n",
       "\n",
       ".xr-array-wrap > label {\n",
       "  grid-column: 1;\n",
       "  vertical-align: top;\n",
       "}\n",
       "\n",
       ".xr-preview {\n",
       "  color: var(--xr-font-color3);\n",
       "}\n",
       "\n",
       ".xr-array-preview,\n",
       ".xr-array-data {\n",
       "  padding: 0 5px !important;\n",
       "  grid-column: 2;\n",
       "}\n",
       "\n",
       ".xr-array-data,\n",
       ".xr-array-in:checked ~ .xr-array-preview {\n",
       "  display: none;\n",
       "}\n",
       "\n",
       ".xr-array-in:checked ~ .xr-array-data,\n",
       ".xr-array-preview {\n",
       "  display: inline-block;\n",
       "}\n",
       "\n",
       ".xr-dim-list {\n",
       "  display: inline-block !important;\n",
       "  list-style: none;\n",
       "  padding: 0 !important;\n",
       "  margin: 0;\n",
       "}\n",
       "\n",
       ".xr-dim-list li {\n",
       "  display: inline-block;\n",
       "  padding: 0;\n",
       "  margin: 0;\n",
       "}\n",
       "\n",
       ".xr-dim-list:before {\n",
       "  content: '(';\n",
       "}\n",
       "\n",
       ".xr-dim-list:after {\n",
       "  content: ')';\n",
       "}\n",
       "\n",
       ".xr-dim-list li:not(:last-child):after {\n",
       "  content: ',';\n",
       "  padding-right: 5px;\n",
       "}\n",
       "\n",
       ".xr-has-index {\n",
       "  font-weight: bold;\n",
       "}\n",
       "\n",
       ".xr-var-list,\n",
       ".xr-var-item {\n",
       "  display: contents;\n",
       "}\n",
       "\n",
       ".xr-var-item > div,\n",
       ".xr-var-item label,\n",
       ".xr-var-item > .xr-var-name span {\n",
       "  background-color: var(--xr-background-color-row-even);\n",
       "  margin-bottom: 0;\n",
       "}\n",
       "\n",
       ".xr-var-item > .xr-var-name:hover span {\n",
       "  padding-right: 5px;\n",
       "}\n",
       "\n",
       ".xr-var-list > li:nth-child(odd) > div,\n",
       ".xr-var-list > li:nth-child(odd) > label,\n",
       ".xr-var-list > li:nth-child(odd) > .xr-var-name span {\n",
       "  background-color: var(--xr-background-color-row-odd);\n",
       "}\n",
       "\n",
       ".xr-var-name {\n",
       "  grid-column: 1;\n",
       "}\n",
       "\n",
       ".xr-var-dims {\n",
       "  grid-column: 2;\n",
       "}\n",
       "\n",
       ".xr-var-dtype {\n",
       "  grid-column: 3;\n",
       "  text-align: right;\n",
       "  color: var(--xr-font-color2);\n",
       "}\n",
       "\n",
       ".xr-var-preview {\n",
       "  grid-column: 4;\n",
       "}\n",
       "\n",
       ".xr-var-name,\n",
       ".xr-var-dims,\n",
       ".xr-var-dtype,\n",
       ".xr-preview,\n",
       ".xr-attrs dt {\n",
       "  white-space: nowrap;\n",
       "  overflow: hidden;\n",
       "  text-overflow: ellipsis;\n",
       "  padding-right: 10px;\n",
       "}\n",
       "\n",
       ".xr-var-name:hover,\n",
       ".xr-var-dims:hover,\n",
       ".xr-var-dtype:hover,\n",
       ".xr-attrs dt:hover {\n",
       "  overflow: visible;\n",
       "  width: auto;\n",
       "  z-index: 1;\n",
       "}\n",
       "\n",
       ".xr-var-attrs,\n",
       ".xr-var-data {\n",
       "  display: none;\n",
       "  background-color: var(--xr-background-color) !important;\n",
       "  padding-bottom: 5px !important;\n",
       "}\n",
       "\n",
       ".xr-var-attrs-in:checked ~ .xr-var-attrs,\n",
       ".xr-var-data-in:checked ~ .xr-var-data {\n",
       "  display: block;\n",
       "}\n",
       "\n",
       ".xr-var-data > table {\n",
       "  float: right;\n",
       "}\n",
       "\n",
       ".xr-var-name span,\n",
       ".xr-var-data,\n",
       ".xr-attrs {\n",
       "  padding-left: 25px !important;\n",
       "}\n",
       "\n",
       ".xr-attrs,\n",
       ".xr-var-attrs,\n",
       ".xr-var-data {\n",
       "  grid-column: 1 / -1;\n",
       "}\n",
       "\n",
       "dl.xr-attrs {\n",
       "  padding: 0;\n",
       "  margin: 0;\n",
       "  display: grid;\n",
       "  grid-template-columns: 125px auto;\n",
       "}\n",
       "\n",
       ".xr-attrs dt,\n",
       ".xr-attrs dd {\n",
       "  padding: 0;\n",
       "  margin: 0;\n",
       "  float: left;\n",
       "  padding-right: 10px;\n",
       "  width: auto;\n",
       "}\n",
       "\n",
       ".xr-attrs dt {\n",
       "  font-weight: normal;\n",
       "  grid-column: 1;\n",
       "}\n",
       "\n",
       ".xr-attrs dt:hover span {\n",
       "  display: inline-block;\n",
       "  background: var(--xr-background-color);\n",
       "  padding-right: 10px;\n",
       "}\n",
       "\n",
       ".xr-attrs dd {\n",
       "  grid-column: 2;\n",
       "  white-space: pre-wrap;\n",
       "  word-break: break-all;\n",
       "}\n",
       "\n",
       ".xr-icon-database,\n",
       ".xr-icon-file-text2 {\n",
       "  display: inline-block;\n",
       "  vertical-align: middle;\n",
       "  width: 1em;\n",
       "  height: 1.5em !important;\n",
       "  stroke-width: 0;\n",
       "  stroke: currentColor;\n",
       "  fill: currentColor;\n",
       "}\n",
       "</style><pre class='xr-text-repr-fallback'>&lt;xarray.Dataset&gt;\n",
       "Dimensions:  (age: 2, node: 2, time: 300)\n",
       "Coordinates:\n",
       "  * time     (time) int64 0 1 2 3 4 5 6 7 8 ... 292 293 294 295 296 297 298 299\n",
       "  * age      (age) &lt;U5 &#x27;young&#x27; &#x27;old&#x27;\n",
       "  * node     (node) int64 0 1\n",
       "Data variables:\n",
       "    S        (time, node, age) float64 24.0 0.0 49.0 0.0 ... 23.97 0.0 48.97 0.0\n",
       "    E        (time, node, age) float64 0.0 0.0 0.0 0.0 ... 0.0 2.598e-05 0.0\n",
       "    I        (time, node, age) float64 1.0 0.0 1.0 0.0 ... 0.0 0.001695 0.0\n",
       "    R        (time, node, age) float64 0.0 0.0 0.0 0.0 ... 1.03 0.0 1.031 0.0</pre><div class='xr-wrap' hidden><div class='xr-header'><div class='xr-obj-type'>xarray.Dataset</div></div><ul class='xr-sections'><li class='xr-section-item'><input id='section-aa07a091-4726-4ce6-96bf-fc73a241aa57' class='xr-section-summary-in' type='checkbox' disabled ><label for='section-aa07a091-4726-4ce6-96bf-fc73a241aa57' class='xr-section-summary'  title='Expand/collapse section'>Dimensions:</label><div class='xr-section-inline-details'><ul class='xr-dim-list'><li><span class='xr-has-index'>age</span>: 2</li><li><span class='xr-has-index'>node</span>: 2</li><li><span class='xr-has-index'>time</span>: 300</li></ul></div><div class='xr-section-details'></div></li><li class='xr-section-item'><input id='section-b0f5a6bc-672b-402a-b10b-b2f958d8ba19' class='xr-section-summary-in' type='checkbox'  checked><label for='section-b0f5a6bc-672b-402a-b10b-b2f958d8ba19' class='xr-section-summary' >Coordinates: <span>(3)</span></label><div class='xr-section-inline-details'></div><div class='xr-section-details'><ul class='xr-var-list'><li class='xr-var-item'><div class='xr-var-name'><span class='xr-has-index'>time</span></div><div class='xr-var-dims'>(time)</div><div class='xr-var-dtype'>int64</div><div class='xr-var-preview xr-preview'>0 1 2 3 4 5 ... 295 296 297 298 299</div><input id='attrs-cc9c2ac5-b51c-46d5-8535-cbcdb2c103b4' class='xr-var-attrs-in' type='checkbox' disabled><label for='attrs-cc9c2ac5-b51c-46d5-8535-cbcdb2c103b4' title='Show/Hide attributes'><svg class='icon xr-icon-file-text2'><use xlink:href='#icon-file-text2'></use></svg></label><input id='data-d025ab4d-6710-4ac9-84b9-ddc462284fc7' class='xr-var-data-in' type='checkbox'><label for='data-d025ab4d-6710-4ac9-84b9-ddc462284fc7' title='Show/Hide data repr'><svg class='icon xr-icon-database'><use xlink:href='#icon-database'></use></svg></label><div class='xr-var-attrs'><dl class='xr-attrs'></dl></div><div class='xr-var-data'><pre>array([  0,   1,   2, ..., 297, 298, 299])</pre></div></li><li class='xr-var-item'><div class='xr-var-name'><span class='xr-has-index'>age</span></div><div class='xr-var-dims'>(age)</div><div class='xr-var-dtype'>&lt;U5</div><div class='xr-var-preview xr-preview'>&#x27;young&#x27; &#x27;old&#x27;</div><input id='attrs-bfcb8fec-c2d8-4866-9987-4b71c7f19d89' class='xr-var-attrs-in' type='checkbox' disabled><label for='attrs-bfcb8fec-c2d8-4866-9987-4b71c7f19d89' title='Show/Hide attributes'><svg class='icon xr-icon-file-text2'><use xlink:href='#icon-file-text2'></use></svg></label><input id='data-b409dbcd-1f63-4d37-8b93-815332b1cbbc' class='xr-var-data-in' type='checkbox'><label for='data-b409dbcd-1f63-4d37-8b93-815332b1cbbc' title='Show/Hide data repr'><svg class='icon xr-icon-database'><use xlink:href='#icon-database'></use></svg></label><div class='xr-var-attrs'><dl class='xr-attrs'></dl></div><div class='xr-var-data'><pre>array([&#x27;young&#x27;, &#x27;old&#x27;], dtype=&#x27;&lt;U5&#x27;)</pre></div></li><li class='xr-var-item'><div class='xr-var-name'><span class='xr-has-index'>node</span></div><div class='xr-var-dims'>(node)</div><div class='xr-var-dtype'>int64</div><div class='xr-var-preview xr-preview'>0 1</div><input id='attrs-b6bc7825-2e97-4060-853b-ec053f1e7769' class='xr-var-attrs-in' type='checkbox' disabled><label for='attrs-b6bc7825-2e97-4060-853b-ec053f1e7769' title='Show/Hide attributes'><svg class='icon xr-icon-file-text2'><use xlink:href='#icon-file-text2'></use></svg></label><input id='data-c236bd04-4a03-4725-a975-aff7c830970d' class='xr-var-data-in' type='checkbox'><label for='data-c236bd04-4a03-4725-a975-aff7c830970d' title='Show/Hide data repr'><svg class='icon xr-icon-database'><use xlink:href='#icon-database'></use></svg></label><div class='xr-var-attrs'><dl class='xr-attrs'></dl></div><div class='xr-var-data'><pre>array([0, 1])</pre></div></li></ul></div></li><li class='xr-section-item'><input id='section-7d9135a0-6e44-4959-90ed-a5017bdc77c2' class='xr-section-summary-in' type='checkbox'  checked><label for='section-7d9135a0-6e44-4959-90ed-a5017bdc77c2' class='xr-section-summary' >Data variables: <span>(4)</span></label><div class='xr-section-inline-details'></div><div class='xr-section-details'><ul class='xr-var-list'><li class='xr-var-item'><div class='xr-var-name'><span>S</span></div><div class='xr-var-dims'>(time, node, age)</div><div class='xr-var-dtype'>float64</div><div class='xr-var-preview xr-preview'>24.0 0.0 49.0 0.0 ... 0.0 48.97 0.0</div><input id='attrs-0f63b62a-2081-4c14-85e5-f045c3243820' class='xr-var-attrs-in' type='checkbox' disabled><label for='attrs-0f63b62a-2081-4c14-85e5-f045c3243820' title='Show/Hide attributes'><svg class='icon xr-icon-file-text2'><use xlink:href='#icon-file-text2'></use></svg></label><input id='data-2086c6ab-8bae-4e06-8d2e-1d2435547de5' class='xr-var-data-in' type='checkbox'><label for='data-2086c6ab-8bae-4e06-8d2e-1d2435547de5' title='Show/Hide data repr'><svg class='icon xr-icon-database'><use xlink:href='#icon-database'></use></svg></label><div class='xr-var-attrs'><dl class='xr-attrs'></dl></div><div class='xr-var-data'><pre>array([[[24.        ,  0.        ],\n",
       "        [49.        ,  0.        ]],\n",
       "\n",
       "       [[23.99930987,  0.        ],\n",
       "        [48.99929549,  0.        ]],\n",
       "\n",
       "       [[23.99863499,  0.        ],\n",
       "        [48.99860654,  0.        ]],\n",
       "\n",
       "       ...,\n",
       "\n",
       "       [[23.96779608,  0.        ],\n",
       "        [48.96709215,  0.        ]],\n",
       "\n",
       "       [[23.96779487,  0.        ],\n",
       "        [48.9670909 ,  0.        ]],\n",
       "\n",
       "       [[23.96779368,  0.        ],\n",
       "        [48.96708968,  0.        ]]])</pre></div></li><li class='xr-var-item'><div class='xr-var-name'><span>E</span></div><div class='xr-var-dims'>(time, node, age)</div><div class='xr-var-dtype'>float64</div><div class='xr-var-preview xr-preview'>0.0 0.0 0.0 ... 0.0 2.598e-05 0.0</div><input id='attrs-b399282a-82e5-4a84-93fc-4a907249f690' class='xr-var-attrs-in' type='checkbox' disabled><label for='attrs-b399282a-82e5-4a84-93fc-4a907249f690' title='Show/Hide attributes'><svg class='icon xr-icon-file-text2'><use xlink:href='#icon-file-text2'></use></svg></label><input id='data-69dda8d3-6a24-442c-926f-35355f343cae' class='xr-var-data-in' type='checkbox'><label for='data-69dda8d3-6a24-442c-926f-35355f343cae' title='Show/Hide data repr'><svg class='icon xr-icon-database'><use xlink:href='#icon-database'></use></svg></label><div class='xr-var-attrs'><dl class='xr-attrs'></dl></div><div class='xr-var-data'><pre>array([[[0.00000000e+00, 0.00000000e+00],\n",
       "        [0.00000000e+00, 0.00000000e+00]],\n",
       "\n",
       "       [[6.90129789e-04, 0.00000000e+00],\n",
       "        [7.04507493e-04, 0.00000000e+00]],\n",
       "\n",
       "       [[1.31879499e-03, 0.00000000e+00],\n",
       "        [1.34627979e-03, 0.00000000e+00]],\n",
       "\n",
       "       ...,\n",
       "\n",
       "       [[2.63888124e-05, 0.00000000e+00],\n",
       "        [2.71049617e-05, 0.00000000e+00]],\n",
       "\n",
       "       [[2.58330145e-05, 0.00000000e+00],\n",
       "        [2.65346551e-05, 0.00000000e+00]],\n",
       "\n",
       "       [[2.52889227e-05, 0.00000000e+00],\n",
       "        [2.59763481e-05, 0.00000000e+00]]])</pre></div></li><li class='xr-var-item'><div class='xr-var-name'><span>I</span></div><div class='xr-var-dims'>(time, node, age)</div><div class='xr-var-dtype'>float64</div><div class='xr-var-preview xr-preview'>1.0 0.0 1.0 ... 0.0 0.001695 0.0</div><input id='attrs-e0a36303-d1cb-48a7-b423-fc0269eb5826' class='xr-var-attrs-in' type='checkbox' disabled><label for='attrs-e0a36303-d1cb-48a7-b423-fc0269eb5826' title='Show/Hide attributes'><svg class='icon xr-icon-file-text2'><use xlink:href='#icon-file-text2'></use></svg></label><input id='data-e4bd136d-98f7-4c39-82af-2cc73a40f656' class='xr-var-data-in' type='checkbox'><label for='data-e4bd136d-98f7-4c39-82af-2cc73a40f656' title='Show/Hide data repr'><svg class='icon xr-icon-database'><use xlink:href='#icon-database'></use></svg></label><div class='xr-var-attrs'><dl class='xr-attrs'></dl></div><div class='xr-var-data'><pre>array([[[1.        , 0.        ],\n",
       "        [1.        , 0.        ]],\n",
       "\n",
       "       [[0.97793277, 0.        ],\n",
       "        [0.97793277, 0.        ]],\n",
       "\n",
       "       [[0.95639872, 0.        ],\n",
       "        [0.95639968, 0.        ]],\n",
       "\n",
       "       ...,\n",
       "\n",
       "       [[0.00175765, 0.        ],\n",
       "        [0.00176814, 0.        ]],\n",
       "\n",
       "       [[0.00172063, 0.        ],\n",
       "        [0.00173094, 0.        ]],\n",
       "\n",
       "       [[0.0016844 , 0.        ],\n",
       "        [0.00169452, 0.        ]]])</pre></div></li><li class='xr-var-item'><div class='xr-var-name'><span>R</span></div><div class='xr-var-dims'>(time, node, age)</div><div class='xr-var-dtype'>float64</div><div class='xr-var-preview xr-preview'>0.0 0.0 0.0 0.0 ... 0.0 1.031 0.0</div><input id='attrs-d5670ad7-7852-44b8-bc68-e929507857cb' class='xr-var-attrs-in' type='checkbox' disabled><label for='attrs-d5670ad7-7852-44b8-bc68-e929507857cb' title='Show/Hide attributes'><svg class='icon xr-icon-file-text2'><use xlink:href='#icon-file-text2'></use></svg></label><input id='data-05f6d9e7-2626-4e64-8274-ddd210354a6d' class='xr-var-data-in' type='checkbox'><label for='data-05f6d9e7-2626-4e64-8274-ddd210354a6d' title='Show/Hide data repr'><svg class='icon xr-icon-database'><use xlink:href='#icon-database'></use></svg></label><div class='xr-var-attrs'><dl class='xr-attrs'></dl></div><div class='xr-var-data'><pre>array([[[0.        , 0.        ],\n",
       "        [0.        , 0.        ]],\n",
       "\n",
       "       [[0.02206723, 0.        ],\n",
       "        [0.02206723, 0.        ]],\n",
       "\n",
       "       [[0.0436475 , 0.        ],\n",
       "        [0.0436475 , 0.        ]],\n",
       "\n",
       "       ...,\n",
       "\n",
       "       [[1.03041988, 0.        ],\n",
       "        [1.03111261, 0.        ]],\n",
       "\n",
       "       [[1.03045866, 0.        ],\n",
       "        [1.03115163, 0.        ]],\n",
       "\n",
       "       [[1.03049663, 0.        ],\n",
       "        [1.03118982, 0.        ]]])</pre></div></li></ul></div></li><li class='xr-section-item'><input id='section-6aa10541-c92c-4502-a7ff-5bfb3f0b96da' class='xr-section-summary-in' type='checkbox' disabled ><label for='section-6aa10541-c92c-4502-a7ff-5bfb3f0b96da' class='xr-section-summary'  title='Expand/collapse section'>Attributes: <span>(0)</span></label><div class='xr-section-inline-details'></div><div class='xr-section-details'><dl class='xr-attrs'></dl></div></li></ul></div></div>"
      ],
      "text/plain": [
       "<xarray.Dataset>\n",
       "Dimensions:  (age: 2, node: 2, time: 300)\n",
       "Coordinates:\n",
       "  * time     (time) int64 0 1 2 3 4 5 6 7 8 ... 292 293 294 295 296 297 298 299\n",
       "  * age      (age) <U5 'young' 'old'\n",
       "  * node     (node) int64 0 1\n",
       "Data variables:\n",
       "    S        (time, node, age) float64 24.0 0.0 49.0 0.0 ... 23.97 0.0 48.97 0.0\n",
       "    E        (time, node, age) float64 0.0 0.0 0.0 0.0 ... 0.0 2.598e-05 0.0\n",
       "    I        (time, node, age) float64 1.0 0.0 1.0 0.0 ... 0.0 0.001695 0.0\n",
       "    R        (time, node, age) float64 0.0 0.0 0.0 0.0 ... 1.03 0.0 1.031 0.0"
      ]
     },
     "execution_count": 8,
     "metadata": {},
     "output_type": "execute_result"
    }
   ],
   "source": [
    "test1 = deepcopy(params_template)\n",
    "test1['phi'] = phi_matrix\n",
    "test1_model = SEIR(test1)\n",
    "test1_model.seir()\n",
    "test1_model.final"
   ]
  },
  {
   "cell_type": "code",
   "execution_count": 9,
   "metadata": {},
   "outputs": [
    {
     "data": {
      "text/plain": [
       "0.1"
      ]
     },
     "execution_count": 9,
     "metadata": {},
     "output_type": "execute_result"
    }
   ],
   "source": [
    "test1_model.beta"
   ]
  },
  {
   "cell_type": "code",
   "execution_count": 10,
   "metadata": {},
   "outputs": [
    {
     "data": {
      "text/plain": [
       "'False'"
      ]
     },
     "execution_count": 10,
     "metadata": {},
     "output_type": "execute_result"
    }
   ],
   "source": [
    "test1_model.stochastic"
   ]
  },
  {
   "cell_type": "code",
   "execution_count": 11,
   "metadata": {},
   "outputs": [
    {
     "data": {
      "image/png": "[encoded data removed]",
      "text/plain": [
       "<Figure size 576x360 with 1 Axes>"
      ]
     },
     "metadata": {
      "needs_background": "light"
     },
     "output_type": "display_data"
    }
   ],
   "source": [
    "test1_model.plot_timeseries()"
   ]
  },
  {
   "cell_type": "code",
   "execution_count": 12,
   "metadata": {},
   "outputs": [],
   "source": [
    "def discrete_time_approx(rate, timestep):\n",
    "    \"\"\"\n",
    "\n",
    "    :param rate: daily rate\n",
    "    :param timestep: timesteps per day\n",
    "    :return: rate rescaled by time step\n",
    "    \"\"\"\n",
    "\n",
    "    return (1 - (1 - rate)**(1/timestep))"
   ]
  },
  {
   "cell_type": "code",
   "execution_count": 13,
   "metadata": {},
   "outputs": [],
   "source": [
    "ref_params = {\n",
    "  \"mu\": 0.0,\n",
    "  \"sigma\": 0.5,\n",
    "  \"beta\": 0.1,\n",
    "  \"gamma\": 0.2,\n",
    "  \"omega\": 0.1,\n",
    "  \"start_S\": [[73, 0]],\n",
    "  \"start_E\": [[0, 0]],\n",
    "  \"start_I\": [[2, 0]],\n",
    "  \"start_R\": [[0, 0]],\n",
    "  \"days\": 30,\n",
    "  \"outpath\": \"outputs/single_node\",\n",
    "  \"phi\": [[[[5/10, 0], [0, 0]]]],\n",
    "  \"n_sims\": 1,\n",
    "  \"stochastic\": \"False\",\n",
    "  \"n_age\": 2,\n",
    "  \"n_nodes\": 1,\n",
    "  \"sim_idx\": 0\n",
    "}"
   ]
  },
  {
   "cell_type": "code",
   "execution_count": 14,
   "metadata": {},
   "outputs": [],
   "source": [
    "ref_model = SEIR(ref_params)\n",
    "ref_model.seir()"
   ]
  },
  {
   "cell_type": "code",
   "execution_count": 15,
   "metadata": {},
   "outputs": [
    {
     "data": {
      "image/png": "[encoded data removed]",
      "text/plain": [
       "<Figure size 576x360 with 1 Axes>"
      ]
     },
     "metadata": {
      "needs_background": "light"
     },
     "output_type": "display_data"
    }
   ],
   "source": [
    "ref_model.plot_timeseries()"
   ]
  },
  {
   "cell_type": "code",
   "execution_count": 16,
   "metadata": {},
   "outputs": [],
   "source": [
    "def test_partition(test, ref, method=xarray.testing.assert_allclose, **kwargs):\n",
    "\n",
    "    test_s = xr_summary(test.final.S, sel={'age': 'young'}, timeslice=slice(0, test.duration), sum_over='node')\n",
    "    ref_s = xr_summary(ref.final.S, sel={'age': 'young'}, timeslice=slice(0, ref.duration), sum_over='node')\n",
    "    \n",
    "    diff_s = test_s - ref_s\n",
    "    \n",
    "    test_e = xr_summary(test.final.E, sel={'age': 'young'}, timeslice=slice(0, test.duration), sum_over='node')\n",
    "    ref_e = xr_summary(ref.final.E, sel={'age': 'young'}, timeslice=slice(0, ref.duration), sum_over='node')\n",
    "    \n",
    "    diff_e = test_e - ref_e\n",
    "    \n",
    "    test_i = xr_summary(test.final.I, sel={'age': 'young'}, timeslice=slice(0, test.duration), sum_over='node')\n",
    "    ref_i = xr_summary(ref.final.I, sel={'age': 'young'}, timeslice=slice(0, ref.duration), sum_over='node')\n",
    "    \n",
    "    diff_i = test_i - ref_i\n",
    "    \n",
    "    test_r = xr_summary(test.final.R, sel={'age': 'young'}, timeslice=slice(0, test.duration), sum_over='node')\n",
    "    ref_r = xr_summary(ref.final.R, sel={'age': 'young'}, timeslice=slice(0, ref.duration), sum_over='node')\n",
    "    \n",
    "    diff_r = test_r - ref_r\n",
    "    \n",
    "    try:\n",
    "        method(test_s, ref_s, **kwargs)\n",
    "    except AssertionError:\n",
    "        print('Differing values for susceptible timeseries.')\n",
    "        \n",
    "    try:\n",
    "        method(test_e, ref_e, **kwargs)\n",
    "    except AssertionError:\n",
    "        print('Differing values for exposed timeseries.')\n",
    "    \n",
    "    try:\n",
    "        method(test_i, ref_i, **kwargs)\n",
    "    except AssertionError:\n",
    "        print('Differing values for infected timeseries.')\n",
    "    \n",
    "    try:\n",
    "        method(test_r, ref_r, **kwargs)\n",
    "    except AssertionError:\n",
    "        print('Differing values for recovered timeseries.')\n",
    "        \n",
    "    return diff_s, diff_e, diff_i, diff_r"
   ]
  },
  {
   "cell_type": "code",
   "execution_count": 17,
   "metadata": {},
   "outputs": [
    {
     "name": "stdout",
     "output_type": "stream",
     "text": [
      "Differing values for recovered timeseries.\n"
     ]
    }
   ],
   "source": [
    "s_diff, e_diff, i_diff, r_diff = test_partition(test1_model, ref_model, atol=0.1, rtol=0.1)"
   ]
  },
  {
   "cell_type": "code",
   "execution_count": 18,
   "metadata": {},
   "outputs": [
    {
     "data": {
      "image/png": "[encoded data removed]",
      "text/plain": [
       "<Figure size 576x360 with 1 Axes>"
      ]
     },
     "metadata": {
      "needs_background": "light"
     },
     "output_type": "display_data"
    }
   ],
   "source": [
    "fig, ax = plt.subplots(1, 1, figsize=(8, 5))\n",
    "\n",
    "s_diff.plot(ax=ax, color='b')\n",
    "e_diff.plot(ax=ax, color='g')\n",
    "i_diff.plot(ax=ax, color='r')\n",
    "r_diff.plot(ax=ax, color='k')\n",
    "\n",
    "plt.legend((\"S\", \"E\", \"I\", \"R\"), loc=0)\n",
    "plt.ylabel(\"N Partition - N Baseline\")\n",
    "plt.xlabel(\"Time\")\n",
    "plt.xticks(rotation=45)\n",
    "plt.title(\"Two Local, One Contextual vs Baseline Mixing = 5 contacts/person/day\")\n",
    "plt.tight_layout()\n",
    "ax.set_ylim(-2, 3)\n",
    "plt.axhline(y=0, c='gray', ls='dotted')\n",
    "\n",
    "plt.show()"
   ]
  },
  {
   "cell_type": "code",
   "execution_count": 19,
   "metadata": {},
   "outputs": [
    {
     "name": "stdout",
     "output_type": "stream",
     "text": [
      "Differing values for susceptible timeseries.\n",
      "Differing values for exposed timeseries.\n",
      "Differing values for infected timeseries.\n",
      "Differing values for recovered timeseries.\n"
     ]
    },
    {
     "data": {
      "text/plain": [
       "(<xarray.DataArray 'S' (time: 300)>\n",
       " array([0.        , 0.0083387 , 0.01649214, 0.02446758, 0.03227183,\n",
       "        0.03991127, 0.04739194, 0.05471949, 0.06189926, 0.06893627,\n",
       "        0.07583527, 0.08260074, 0.0892369 , 0.09574777, 0.10213713,\n",
       "        0.10840857, 0.11456549, 0.12061112, 0.12654853, 0.13238064,\n",
       "        0.13811024, 0.14373995, 0.14927231, 0.15470973, 0.1600545 ,\n",
       "        0.16530884, 0.17047484, 0.17555452, 0.18054983, 0.18546261,\n",
       "        0.19029467, 0.19504771, 0.19972339, 0.2043233 , 0.20884898,\n",
       "        0.21330192, 0.21768355, 0.22199526, 0.22623838, 0.23041421,\n",
       "        0.23452402, 0.23856903, 0.24255041, 0.24646932, 0.25032689,\n",
       "        0.25412419, 0.25786229, 0.26154221, 0.26516497, 0.26873154,\n",
       "        0.27224288, 0.27569991, 0.27910355, 0.28245469, 0.2857542 ,\n",
       "        0.28900293, 0.2922017 , 0.29535134, 0.29845263, 0.30150636,\n",
       "        0.30451329, 0.30747417, 0.31038973, 0.3132607 , 0.31608777,\n",
       "        0.31887164, 0.32161299, 0.32431248, 0.32697077, 0.3295885 ,\n",
       "        0.3321663 , 0.33470479, 0.33720458, 0.33966627, 0.34209045,\n",
       "        0.34447769, 0.34682856, 0.34914362, 0.35142342, 0.35366849,\n",
       "        0.35587938, 0.3580566 , 0.36020067, 0.36231209, 0.36439136,\n",
       "        0.36643897, 0.3684554 , 0.37044112, 0.37239661, 0.37432232,\n",
       "        0.37621869, 0.37808619, 0.37992524, 0.38173628, 0.38351973,\n",
       "        0.385276  , 0.38700552, 0.38870869, 0.39038589, 0.39203754,\n",
       " ...\n",
       "        0.47592157, 0.47626243, 0.47659802, 0.47692842, 0.47725372,\n",
       "        0.47757398, 0.4778893 , 0.47819974, 0.47850538, 0.47880629,\n",
       "        0.47910255, 0.47939422, 0.47968138, 0.4799641 , 0.48024245,\n",
       "        0.48051648, 0.48078628, 0.4810519 , 0.4813134 , 0.48157086,\n",
       "        0.48182433, 0.48207388, 0.48231956, 0.48256144, 0.48279957,\n",
       "        0.48303402, 0.48326483, 0.48349206, 0.48371577, 0.48393602,\n",
       "        0.48415285, 0.48436633, 0.48457649, 0.4847834 , 0.48498709,\n",
       "        0.48518763, 0.48538506, 0.48557943, 0.48577078, 0.48595917,\n",
       "        0.48614463, 0.48632722, 0.48650697, 0.48668394, 0.48685816,\n",
       "        0.48702967, 0.48719852, 0.48736476, 0.48752841, 0.48768952,\n",
       "        0.48784813, 0.48800428, 0.488158  , 0.48830934, 0.48845832,\n",
       "        0.488605  , 0.48874939, 0.48889154, 0.48903148, 0.48916925,\n",
       "        0.48930488, 0.4894384 , 0.48956985, 0.48969925, 0.48982664,\n",
       "        0.48995205, 0.49007551, 0.49019706, 0.49031671, 0.4904345 ,\n",
       "        0.49055047, 0.49066462, 0.49077701, 0.49088764, 0.49099656,\n",
       "        0.49110378, 0.49120933, 0.49131324, 0.49141553, 0.49151624,\n",
       "        0.49161537, 0.49171296, 0.49180904, 0.49190362, 0.49199672,\n",
       "        0.49208838, 0.49217861, 0.49226744, 0.49235488, 0.49244096,\n",
       "        0.4925257 , 0.49260913, 0.49269125, 0.49277209, 0.49285168,\n",
       "        0.49293002, 0.49300715, 0.49308307, 0.49315781, 0.49323139])\n",
       " Coordinates:\n",
       "   * time     (time) int64 0 1 2 3 4 5 6 7 8 ... 292 293 294 295 296 297 298 299\n",
       "     age      <U5 'young',\n",
       " <xarray.DataArray 'E' (time: 300)>\n",
       " array([ 0.        , -0.0083387 , -0.01593372, -0.02284213, -0.02911671,\n",
       "        -0.03480629, -0.03995609, -0.0446079 , -0.04880041, -0.0525694 ,\n",
       "        -0.05594799, -0.05896679, -0.06165412, -0.0640362 , -0.06613724,\n",
       "        -0.06797967, -0.06958419, -0.07096998, -0.07215474, -0.07315487,\n",
       "        -0.0739855 , -0.07466063, -0.07519319, -0.07559514, -0.07587754,\n",
       "        -0.07605058, -0.0761237 , -0.07610561, -0.07600435, -0.07582735,\n",
       "        -0.07558147, -0.07527305, -0.07490792, -0.07449147, -0.07402868,\n",
       "        -0.07352414, -0.07298208, -0.07240639, -0.07180067, -0.07116823,\n",
       "        -0.07051212, -0.06983514, -0.06913987, -0.0684287 , -0.06770379,\n",
       "        -0.06696718, -0.06622068, -0.06546601, -0.0647047 , -0.06393819,\n",
       "        -0.06316778, -0.06239465, -0.06161991, -0.06084455, -0.06006949,\n",
       "        -0.05929554, -0.05852347, -0.05775396, -0.05698764, -0.05622508,\n",
       "        -0.05546679, -0.05471322, -0.0539648 , -0.05322191, -0.05248486,\n",
       "        -0.05175398, -0.05102952, -0.05031171, -0.04960078, -0.04889689,\n",
       "        -0.04820022, -0.04751088, -0.04682901, -0.0461547 , -0.04548804,\n",
       "        -0.04482908, -0.04417788, -0.04353448, -0.0428989 , -0.04227117,\n",
       "        -0.04165129, -0.04103925, -0.04043504, -0.03983864, -0.03925004,\n",
       "        -0.03866919, -0.03809606, -0.0375306 , -0.03697278, -0.03642253,\n",
       "        -0.0358798 , -0.03534453, -0.03481667, -0.03429614, -0.03378287,\n",
       "        -0.03327681, -0.03277788, -0.03228601, -0.03180112, -0.03132314,\n",
       " ...\n",
       "        -0.0066124 , -0.00651045, -0.00641005, -0.0063112 , -0.00621385,\n",
       "        -0.00611799, -0.00602361, -0.00593066, -0.00583914, -0.00574902,\n",
       "        -0.00566029, -0.00557291, -0.00548687, -0.00540215, -0.00531873,\n",
       "        -0.00523658, -0.0051557 , -0.00507606, -0.00499764, -0.00492042,\n",
       "        -0.00484439, -0.00476952, -0.0046958 , -0.00462322, -0.00455174,\n",
       "        -0.00448137, -0.00441208, -0.00434385, -0.00427667, -0.00421052,\n",
       "        -0.00414538, -0.00408125, -0.00401811, -0.00395593, -0.00389471,\n",
       "        -0.00383443, -0.00377508, -0.00371665, -0.00365911, -0.00360245,\n",
       "        -0.00354667, -0.00349175, -0.00343767, -0.00338442, -0.003332  ,\n",
       "        -0.00328038, -0.00322955, -0.00317951, -0.00313024, -0.00308173,\n",
       "        -0.00303397, -0.00298694, -0.00294064, -0.00289505, -0.00285016,\n",
       "        -0.00280597, -0.00276245, -0.00271961, -0.00267743, -0.0026359 ,\n",
       "        -0.00259501, -0.00255475, -0.00251511, -0.00247608, -0.00243766,\n",
       "        -0.00239983, -0.00236258, -0.00232591, -0.0022898 , -0.00225425,\n",
       "        -0.00221926, -0.0021848 , -0.00215087, -0.00211747, -0.00208458,\n",
       "        -0.0020522 , -0.00202033, -0.00198894, -0.00195804, -0.00192762,\n",
       "        -0.00189767, -0.00186818, -0.00183915, -0.00181056, -0.00178242,\n",
       "        -0.00175472, -0.00172744, -0.00170058, -0.00167414, -0.00164811,\n",
       "        -0.00162249, -0.00159726, -0.00157241, -0.00154796, -0.00152388,\n",
       "        -0.00150018, -0.00147684, -0.00145386, -0.00143124, -0.00140897])\n",
       " Coordinates:\n",
       "   * time     (time) int64 0 1 2 3 4 5 6 7 8 ... 292 293 294 295 296 297 298 299\n",
       "     age      <U5 'young',\n",
       " <xarray.DataArray 'I' (time: 300)>\n",
       " array([ 0.        ,  0.        , -0.00055842, -0.00161313, -0.0031072 ,\n",
       "        -0.00498849, -0.00720928, -0.00972593, -0.01249857, -0.01549078,\n",
       "        -0.01866935, -0.02200404, -0.0254673 , -0.0290341 , -0.03268171,\n",
       "        -0.03638953, -0.04013891, -0.043913  , -0.04769661, -0.05147606,\n",
       "        -0.05523909, -0.05897471, -0.0626731 , -0.06632554, -0.0699243 ,\n",
       "        -0.07346255, -0.07693432, -0.08033437, -0.08365817, -0.08690185,\n",
       "        -0.0900621 , -0.09313615, -0.0961217 , -0.09901692, -0.10182036,\n",
       "        -0.10453095, -0.10714793, -0.10967086, -0.11209957, -0.11443412,\n",
       "        -0.1166748 , -0.11882209, -0.12087667, -0.12283935, -0.12471109,\n",
       "        -0.12649298, -0.12818622, -0.12979211, -0.13131202, -0.13274741,\n",
       "        -0.13409979, -0.13537073, -0.13656186, -0.13767482, -0.13871129,\n",
       "        -0.13967299, -0.14056164, -0.14137898, -0.14212674, -0.14280669,\n",
       "        -0.14342057, -0.14397012, -0.14445708, -0.14488317, -0.14525011,\n",
       "        -0.1455596 , -0.14581331, -0.14601291, -0.14616003, -0.1462563 ,\n",
       "        -0.14630331, -0.14630262, -0.14625579, -0.14616433, -0.14602973,\n",
       "        -0.14585346, -0.14563694, -0.1453816 , -0.14508881, -0.14475991,\n",
       "        -0.14439623, -0.14399907, -0.14356968, -0.14310931, -0.14261916,\n",
       "        -0.14210041, -0.14155421, -0.14098168, -0.14038391, -0.13976198,\n",
       "        -0.13911693, -0.13844977, -0.13776148, -0.13705304, -0.13632537,\n",
       "        -0.13557938, -0.13481597, -0.13403599, -0.13324028, -0.13242966,\n",
       " ...\n",
       "        -0.04679832, -0.04620842, -0.04562472, -0.04504717, -0.04447574,\n",
       "        -0.04391041, -0.04335113, -0.04279787, -0.0422506 , -0.04170928,\n",
       "        -0.04117387, -0.04064432, -0.04012062, -0.03960271, -0.03909055,\n",
       "        -0.03858411, -0.03808334, -0.03758821, -0.03709867, -0.03661468,\n",
       "        -0.0361362 , -0.03566319, -0.0351956 , -0.0347334 , -0.03427653,\n",
       "        -0.03382496, -0.03337864, -0.03293753, -0.03250158, -0.03207076,\n",
       "        -0.03164501, -0.0312243 , -0.03080857, -0.0303978 , -0.02999192,\n",
       "        -0.0295909 , -0.02919469, -0.02880325, -0.02841653, -0.0280345 ,\n",
       "        -0.0276571 , -0.02728429, -0.02691604, -0.02655228, -0.02619299,\n",
       "        -0.02583812, -0.02548762, -0.02514145, -0.02479957, -0.02446194,\n",
       "        -0.02412851, -0.02379923, -0.02347408, -0.02315299, -0.02283594,\n",
       "        -0.02252288, -0.02221377, -0.02190857, -0.02160723, -0.02130972,\n",
       "        -0.02101599, -0.02072601, -0.02043973, -0.02015711, -0.01987811,\n",
       "        -0.0196027 , -0.01933083, -0.01906247, -0.01879757, -0.0185361 ,\n",
       "        -0.01827802, -0.01802329, -0.01777188, -0.01752374, -0.01727884,\n",
       "        -0.01703714, -0.01679861, -0.01656321, -0.0163309 , -0.01610164,\n",
       "        -0.01587541, -0.01565217, -0.01543187, -0.0152145 , -0.015     ,\n",
       "        -0.01478836, -0.01457953, -0.01437348, -0.01417018, -0.01396959,\n",
       "        -0.01377169, -0.01357644, -0.01338381, -0.01319377, -0.01300628,\n",
       "        -0.01282132, -0.01263885, -0.01245884, -0.01228127, -0.01210611])\n",
       " Coordinates:\n",
       "   * time     (time) int64 0 1 2 3 4 5 6 7 8 ... 292 293 294 295 296 297 298 299\n",
       "     age      <U5 'young',\n",
       " <xarray.DataArray 'R' (time: 300)>\n",
       " array([ 0.00000000e+00,  0.00000000e+00,  0.00000000e+00, -1.23227289e-05,\n",
       "        -4.79200100e-05, -1.16487320e-04, -2.26569523e-04, -3.85658440e-04,\n",
       "        -6.00282873e-04, -8.76091643e-04, -1.21793017e-03, -1.62991109e-03,\n",
       "        -2.11547936e-03, -2.67747221e-03, -3.31817444e-03, -4.03936934e-03,\n",
       "        -4.84238552e-03, -5.72814012e-03, -6.69717844e-03, -7.74971054e-03,\n",
       "        -8.88564475e-03, -1.01046186e-02, -1.14060271e-02, -1.27890488e-02,\n",
       "        -1.42526698e-02, -1.57957054e-02, -1.74168206e-02, -1.91145480e-02,\n",
       "        -2.08873050e-02, -2.27334093e-02, -2.46510927e-02, -2.66385139e-02,\n",
       "        -2.86937708e-02, -3.08149106e-02, -3.29999398e-02, -3.52468333e-02,\n",
       "        -3.75535419e-02, -3.99180000e-02, -4.23381323e-02, -4.48118595e-02,\n",
       "        -4.73371037e-02, -4.99117935e-02, -5.25338682e-02, -5.52012817e-02,\n",
       "        -5.79120060e-02, -6.06640344e-02, -6.34553843e-02, -6.62840993e-02,\n",
       "        -6.91482518e-02, -7.20459445e-02, -7.49753122e-02, -7.79345232e-02,\n",
       "        -8.09217805e-02, -8.39353227e-02, -8.69734248e-02, -9.00343990e-02,\n",
       "        -9.31165953e-02, -9.62184016e-02, -9.93382442e-02, -1.02474588e-01,\n",
       "        -1.05625936e-01, -1.08790831e-01, -1.11967853e-01, -1.15155621e-01,\n",
       "        -1.18352791e-01, -1.21558059e-01, -1.24770157e-01, -1.27987853e-01,\n",
       "        -1.31209953e-01, -1.34435301e-01, -1.37662772e-01, -1.40891281e-01,\n",
       "        -1.44119775e-01, -1.47347236e-01, -1.50572678e-01, -1.53795150e-01,\n",
       "        -1.57013732e-01, -1.60227536e-01, -1.63435705e-01, -1.66637414e-01,\n",
       " ...\n",
       "        -4.40843745e-01, -4.41641171e-01, -4.42428159e-01, -4.43204828e-01,\n",
       "        -4.43971298e-01, -4.44727686e-01, -4.45474110e-01, -4.46210684e-01,\n",
       "        -4.46937524e-01, -4.47654744e-01, -4.48362457e-01, -4.49060775e-01,\n",
       "        -4.49749808e-01, -4.50429668e-01, -4.51100463e-01, -4.51762302e-01,\n",
       "        -4.52415291e-01, -4.53059537e-01, -4.53695145e-01, -4.54322219e-01,\n",
       "        -4.54940863e-01, -4.55551179e-01, -4.56153267e-01, -4.56747230e-01,\n",
       "        -4.57333165e-01, -4.57911172e-01, -4.58481348e-01, -4.59043789e-01,\n",
       "        -4.59598591e-01, -4.60145849e-01, -4.60685657e-01, -4.61218106e-01,\n",
       "        -4.61743289e-01, -4.62261297e-01, -4.62772219e-01, -4.63276145e-01,\n",
       "        -4.63773163e-01, -4.64263360e-01, -4.64746821e-01, -4.65223633e-01,\n",
       "        -4.65693880e-01, -4.66157644e-01, -4.66615010e-01, -4.67066058e-01,\n",
       "        -4.67510870e-01, -4.67949525e-01, -4.68382102e-01, -4.68808680e-01,\n",
       "        -4.69229336e-01, -4.69644146e-01, -4.70053187e-01, -4.70456532e-01,\n",
       "        -4.70854256e-01, -4.71246432e-01, -4.71633133e-01, -4.72014429e-01,\n",
       "        -4.72390391e-01, -4.72761090e-01, -4.73126594e-01, -4.73486972e-01,\n",
       "        -4.73842291e-01, -4.74192617e-01, -4.74538017e-01, -4.74878556e-01,\n",
       "        -4.75214298e-01, -4.75545306e-01, -4.75871644e-01, -4.76193374e-01,\n",
       "        -4.76510557e-01, -4.76823254e-01, -4.77131524e-01, -4.77435427e-01,\n",
       "        -4.77735021e-01, -4.78030365e-01, -4.78321515e-01, -4.78608528e-01,\n",
       "        -4.78891459e-01, -4.79170363e-01, -4.79445295e-01, -4.79716309e-01])\n",
       " Coordinates:\n",
       "   * time     (time) int64 0 1 2 3 4 5 6 7 8 ... 292 293 294 295 296 297 298 299\n",
       "     age      <U5 'young')"
      ]
     },
     "execution_count": 19,
     "metadata": {},
     "output_type": "execute_result"
    }
   ],
   "source": [
    "test_partition(test1_model, ref_model, method=xarray.testing.assert_equal)"
   ]
  },
  {
   "cell_type": "markdown",
   "metadata": {},
   "source": [
    "# Sensitivity analysis: contact rate"
   ]
  },
  {
   "cell_type": "code",
   "execution_count": 20,
   "metadata": {},
   "outputs": [],
   "source": [
    "def update_contact_rate(contact_df, new_rate, age1='young', age2='young'):\n",
    "    \n",
    "    contact_idx = contact_df.set_index(['age1', 'age2'])\n",
    "    contact_dict = contact_idx.to_dict()\n",
    "    contact_dict['daily_per_capita_contacts'][(age1, age2)] = new_rate\n",
    "    updated_df = pd.DataFrame.from_dict(contact_dict).reset_index()\n",
    "    updated_df.columns = ['age1', 'age2', 'daily_per_capita_contacts']\n",
    "    \n",
    "    return updated_df"
   ]
  },
  {
   "cell_type": "code",
   "execution_count": 21,
   "metadata": {},
   "outputs": [
    {
     "data": {
      "text/html": [
       "<div>\n",
       "<style scoped>\n",
       "    .dataframe tbody tr th:only-of-type {\n",
       "        vertical-align: middle;\n",
       "    }\n",
       "\n",
       "    .dataframe tbody tr th {\n",
       "        vertical-align: top;\n",
       "    }\n",
       "\n",
       "    .dataframe thead th {\n",
       "        text-align: right;\n",
       "    }\n",
       "</style>\n",
       "<table border=\"1\" class=\"dataframe\">\n",
       "  <thead>\n",
       "    <tr style=\"text-align: right;\">\n",
       "      <th></th>\n",
       "      <th>age1</th>\n",
       "      <th>age2</th>\n",
       "      <th>daily_per_capita_contacts</th>\n",
       "    </tr>\n",
       "  </thead>\n",
       "  <tbody>\n",
       "    <tr>\n",
       "      <th>0</th>\n",
       "      <td>old</td>\n",
       "      <td>old</td>\n",
       "      <td>0.0</td>\n",
       "    </tr>\n",
       "    <tr>\n",
       "      <th>1</th>\n",
       "      <td>old</td>\n",
       "      <td>young</td>\n",
       "      <td>0.0</td>\n",
       "    </tr>\n",
       "    <tr>\n",
       "      <th>2</th>\n",
       "      <td>young</td>\n",
       "      <td>old</td>\n",
       "      <td>0.0</td>\n",
       "    </tr>\n",
       "    <tr>\n",
       "      <th>3</th>\n",
       "      <td>young</td>\n",
       "      <td>young</td>\n",
       "      <td>0.3</td>\n",
       "    </tr>\n",
       "  </tbody>\n",
       "</table>\n",
       "</div>"
      ],
      "text/plain": [
       "    age1   age2  daily_per_capita_contacts\n",
       "0    old    old                        0.0\n",
       "1    old  young                        0.0\n",
       "2  young    old                        0.0\n",
       "3  young  young                        0.3"
      ]
     },
     "execution_count": 21,
     "metadata": {},
     "output_type": "execute_result"
    }
   ],
   "source": [
    "update_contact_rate(contact, 0.3)"
   ]
  },
  {
   "cell_type": "code",
   "execution_count": 22,
   "metadata": {},
   "outputs": [],
   "source": [
    "polymod = pd.read_csv('~/COVID19/SEIR-city/data/Cities_Data/ContactMatrixAll_5AgeGroups.csv', header=None)"
   ]
  },
  {
   "cell_type": "code",
   "execution_count": 23,
   "metadata": {},
   "outputs": [
    {
     "name": "stdout",
     "output_type": "stream",
     "text": [
      "0.18975609071541075 10.236283859611031\n"
     ]
    }
   ],
   "source": [
    "max_cr = polymod.max().max()\n",
    "min_cr = polymod.min().min()\n",
    "print(min_cr, max_cr)"
   ]
  },
  {
   "cell_type": "code",
   "execution_count": 24,
   "metadata": {},
   "outputs": [
    {
     "name": "stdout",
     "output_type": "stream",
     "text": [
      "mismatched partitioned and baseline contacts\n",
      "age_i                                 young\n",
      "age_j                                 young\n",
      "partitioned_per_capita_contacts    0.294349\n",
      "age1                                  young\n",
      "age2                                  young\n",
      "daily_per_capita_contacts           10.2363\n",
      "Name: 1, dtype: object\n"
     ]
    }
   ],
   "source": [
    "max_contact = update_contact_rate(contact, max_cr)\n",
    "max_partition = partition_contacts(travel, max_contact, daily_timesteps=10)\n",
    "max_phi_matrix = contact_matrix(max_partition)"
   ]
  },
  {
   "cell_type": "code",
   "execution_count": 25,
   "metadata": {},
   "outputs": [],
   "source": [
    "test_max = deepcopy(params_template)\n",
    "test_max['phi'] = max_phi_matrix\n",
    "test_max_model = SEIR(test_max)\n",
    "test_max_model.seir()"
   ]
  },
  {
   "cell_type": "code",
   "execution_count": 26,
   "metadata": {},
   "outputs": [],
   "source": [
    "ref_max = deepcopy(ref_params)\n",
    "ref_max['phi'] = [[[[max_cr/10, 0], [0, 0]]]]\n",
    "ref_max_model = SEIR(ref_max)\n",
    "ref_max_model.seir()"
   ]
  },
  {
   "cell_type": "code",
   "execution_count": 27,
   "metadata": {},
   "outputs": [
    {
     "name": "stdout",
     "output_type": "stream",
     "text": [
      "Differing values for exposed timeseries.\n",
      "Differing values for infected timeseries.\n",
      "Differing values for recovered timeseries.\n"
     ]
    }
   ],
   "source": [
    "ds_max, de_max, di_max, dr_max = test_partition(test_max_model, ref_max_model, atol=0.1, rtol=0.1)"
   ]
  },
  {
   "cell_type": "code",
   "execution_count": 28,
   "metadata": {},
   "outputs": [
    {
     "data": {
      "image/png": "[encoded data removed]",
      "text/plain": [
       "<Figure size 576x360 with 1 Axes>"
      ]
     },
     "metadata": {
      "needs_background": "light"
     },
     "output_type": "display_data"
    }
   ],
   "source": [
    "fig, ax = plt.subplots(1, 1, figsize=(8, 5))\n",
    "\n",
    "ds_max.plot(ax=ax, color='b')\n",
    "de_max.plot(ax=ax, color='g')\n",
    "di_max.plot(ax=ax, color='r')\n",
    "dr_max.plot(ax=ax, color='k')\n",
    "\n",
    "plt.legend((\"S\", \"E\", \"I\", \"R\"), loc=0)\n",
    "plt.ylabel(\"N Partition - N Baseline\")\n",
    "plt.xlabel(\"Time\")\n",
    "plt.xticks(rotation=45)\n",
    "plt.title(\"Two Local, One Contextual vs Baseline Mixing = 10.2 contacts/person/day\")\n",
    "plt.tight_layout()\n",
    "ax.set_ylim(-2, 3)\n",
    "plt.axhline(y=0, c='gray', ls='dotted')\n",
    "\n",
    "plt.show()"
   ]
  },
  {
   "cell_type": "code",
   "execution_count": 29,
   "metadata": {},
   "outputs": [
    {
     "name": "stdout",
     "output_type": "stream",
     "text": [
      "mismatched partitioned and baseline contacts\n",
      "age_i                                   young\n",
      "age_j                                   young\n",
      "partitioned_per_capita_contacts    0.00545651\n",
      "age1                                    young\n",
      "age2                                    young\n",
      "daily_per_capita_contacts            0.189756\n",
      "Name: 1, dtype: object\n"
     ]
    }
   ],
   "source": [
    "min_contact = update_contact_rate(contact, min_cr)\n",
    "min_partition = partition_contacts(travel, min_contact, daily_timesteps=10)\n",
    "min_phi_matrix = contact_matrix(min_partition)\n",
    "\n",
    "test_min = deepcopy(params_template)\n",
    "test_min['phi'] = min_phi_matrix\n",
    "test_min_model = SEIR(test_min)\n",
    "test_min_model.seir()\n",
    "\n",
    "ref_min = deepcopy(ref_params)\n",
    "ref_min['phi'] = [[[[min_cr/10, 0], [0, 0]]]]\n",
    "ref_min_model = SEIR(ref_min)\n",
    "ref_min_model.seir()"
   ]
  },
  {
   "cell_type": "code",
   "execution_count": 30,
   "metadata": {},
   "outputs": [],
   "source": [
    "ds_min, de_min, di_min, dr_min = test_partition(test_min_model, ref_min_model, atol=0.1, rtol=0.1)"
   ]
  },
  {
   "cell_type": "code",
   "execution_count": 31,
   "metadata": {},
   "outputs": [
    {
     "data": {
      "image/png": "[encoded data removed]",
      "text/plain": [
       "<Figure size 576x360 with 1 Axes>"
      ]
     },
     "metadata": {
      "needs_background": "light"
     },
     "output_type": "display_data"
    }
   ],
   "source": [
    "fig, ax = plt.subplots(1, 1, figsize=(8, 5))\n",
    "\n",
    "ds_min.plot(ax=ax, color='b')\n",
    "de_min.plot(ax=ax, color='g')\n",
    "di_min.plot(ax=ax, color='r')\n",
    "dr_min.plot(ax=ax, color='k')\n",
    "\n",
    "plt.legend((\"S\", \"E\", \"I\", \"R\"), loc=0)\n",
    "plt.ylabel(\"N Partition - N Baseline\")\n",
    "plt.xlabel(\"Time\")\n",
    "plt.xticks(rotation=45)\n",
    "plt.title(\"Two Local, One Contextual vs Baseline Mixing = 0.2 contacts/person/day\")\n",
    "plt.tight_layout()\n",
    "ax.set_ylim(-2,3)\n",
    "plt.axhline(y=0, c='gray', ls='dotted')\n",
    "\n",
    "plt.show()"
   ]
  },
  {
   "cell_type": "code",
   "execution_count": 32,
   "metadata": {},
   "outputs": [
    {
     "data": {
      "image/png": "[encoded data removed]",
      "text/plain": [
       "<Figure size 576x360 with 1 Axes>"
      ]
     },
     "metadata": {
      "needs_background": "light"
     },
     "output_type": "display_data"
    }
   ],
   "source": [
    "ref_min_model.plot_timeseries()"
   ]
  },
  {
   "cell_type": "code",
   "execution_count": 33,
   "metadata": {},
   "outputs": [
    {
     "data": {
      "image/png": "[encoded data removed]",
      "text/plain": [
       "<Figure size 576x360 with 1 Axes>"
      ]
     },
     "metadata": {
      "needs_background": "light"
     },
     "output_type": "display_data"
    }
   ],
   "source": [
    "test_min_model.plot_timeseries()"
   ]
  },
  {
   "cell_type": "code",
   "execution_count": 34,
   "metadata": {},
   "outputs": [
    {
     "data": {
      "image/png": "[encoded data removed]",
      "text/plain": [
       "<Figure size 576x360 with 1 Axes>"
      ]
     },
     "metadata": {
      "needs_background": "light"
     },
     "output_type": "display_data"
    }
   ],
   "source": [
    "ref_max_model.plot_timeseries()"
   ]
  },
  {
   "cell_type": "code",
   "execution_count": 35,
   "metadata": {},
   "outputs": [
    {
     "data": {
      "image/png": "[encoded data removed]",
      "text/plain": [
       "<Figure size 576x360 with 1 Axes>"
      ]
     },
     "metadata": {
      "needs_background": "light"
     },
     "output_type": "display_data"
    }
   ],
   "source": [
    "test_max_model.plot_timeseries()"
   ]
  },
  {
   "cell_type": "markdown",
   "metadata": {},
   "source": [
    "# Sensitivity analysis: population size"
   ]
  },
  {
   "cell_type": "code",
   "execution_count": 36,
   "metadata": {},
   "outputs": [],
   "source": [
    "pop_template = {\n",
    "  \"mu\": 0.0,\n",
    "  \"sigma\": 0.5,\n",
    "  \"beta\": 0.1,\n",
    "  \"gamma\": 0.2,\n",
    "  \"omega\": 0.1,\n",
    "  \"start_S\": [[24, 0], [49, 0]],\n",
    "  \"start_E\": [[0, 0], [0, 0]],\n",
    "  \"start_I\": [[1, 0], [1, 0]],\n",
    "  \"start_R\": [[0, 0], [0, 0]],\n",
    "  \"days\": 30,\n",
    "  \"outpath\": \"outputs/multiple_nodes\",\n",
    "  \"phi\": [], # fill in after partitioning\n",
    "  \"n_sims\": 1,\n",
    "  \"stochastic\": \"False\",\n",
    "  \"n_age\": 2,\n",
    "  \"n_nodes\": 2,\n",
    "  \"sim_idx\": 0 # single deterministic run\n",
    "}"
   ]
  },
  {
   "cell_type": "code",
   "execution_count": 37,
   "metadata": {},
   "outputs": [],
   "source": [
    "def update_travel(travel_df, new_count, source, destination, age_src='young', age_dest='young'):\n",
    "    \n",
    "    travel_idx = travel_df.set_index(['source', 'destination', 'age_src', 'age_dest'])\n",
    "    travel_dict = travel_idx.to_dict()\n",
    "    travel_dict['n'][(source, destination, age_src, age_dest)] = new_count\n",
    "    updated_df = pd.DataFrame.from_dict(travel_dict).reset_index()\n",
    "    updated_df.columns = ['source', 'destination', 'age_src', 'age_dest', 'destination_type', 'n']\n",
    "    \n",
    "    return updated_df"
   ]
  },
  {
   "cell_type": "code",
   "execution_count": 38,
   "metadata": {},
   "outputs": [],
   "source": [
    "def update_start_pop(travel_df):\n",
    "    \n",
    "    grouped = travel_df.groupby(['source', 'age_src'])['n'].sum().reset_index()\n",
    "    \n",
    "    nodes = sorted(travel_df['source'].unique())\n",
    "    ages = sorted(travel_df['age_src'].unique(), reverse=True)\n",
    "\n",
    "    pop_arr_s = np.zeros([len(nodes), len(ages)])\n",
    "    pop_arr_e = np.zeros([len(nodes), len(ages)])\n",
    "    pop_arr_i = np.zeros([len(nodes), len(ages)])\n",
    "    pop_arr_r = np.zeros([len(nodes), len(ages)])\n",
    "    \n",
    "    for i, node in enumerate(nodes):\n",
    "        for j, age in enumerate(ages):\n",
    "            new_total = grouped[(grouped['source']==node) & (grouped['age_src']==age)]['n'].item()\n",
    "            if new_total > 2:\n",
    "                pop_arr_s[i, j] = new_total-1\n",
    "                pop_arr_i[i, j] = 1\n",
    "\n",
    "    return pop_arr_s, pop_arr_e, pop_arr_i, pop_arr_r"
   ]
  },
  {
   "cell_type": "code",
   "execution_count": 39,
   "metadata": {},
   "outputs": [],
   "source": [
    "new_travel = update_travel(travel, 50, source='A', destination='A')\n",
    "pop_s, pop_e, pop_i, pop_r = update_start_pop(new_travel)"
   ]
  },
  {
   "cell_type": "code",
   "execution_count": null,
   "metadata": {},
   "outputs": [],
   "source": []
  },
  {
   "cell_type": "markdown",
   "metadata": {},
   "source": [
    "# Sensitivity analysis: additional nodes"
   ]
  },
  {
   "cell_type": "code",
   "execution_count": 40,
   "metadata": {},
   "outputs": [],
   "source": [
    "travel3 = pd.read_csv('inputs/travel3.csv')"
   ]
  },
  {
   "cell_type": "code",
   "execution_count": 41,
   "metadata": {},
   "outputs": [
    {
     "data": {
      "text/html": [
       "<div>\n",
       "<style scoped>\n",
       "    .dataframe tbody tr th:only-of-type {\n",
       "        vertical-align: middle;\n",
       "    }\n",
       "\n",
       "    .dataframe tbody tr th {\n",
       "        vertical-align: top;\n",
       "    }\n",
       "\n",
       "    .dataframe thead th {\n",
       "        text-align: right;\n",
       "    }\n",
       "</style>\n",
       "<table border=\"1\" class=\"dataframe\">\n",
       "  <thead>\n",
       "    <tr style=\"text-align: right;\">\n",
       "      <th></th>\n",
       "      <th>source</th>\n",
       "      <th>destination</th>\n",
       "      <th>destination_type</th>\n",
       "      <th>age_src</th>\n",
       "      <th>age_dest</th>\n",
       "      <th>n</th>\n",
       "    </tr>\n",
       "  </thead>\n",
       "  <tbody>\n",
       "    <tr>\n",
       "      <th>0</th>\n",
       "      <td>A</td>\n",
       "      <td>A</td>\n",
       "      <td>local</td>\n",
       "      <td>young</td>\n",
       "      <td>young</td>\n",
       "      <td>0</td>\n",
       "    </tr>\n",
       "    <tr>\n",
       "      <th>1</th>\n",
       "      <td>A</td>\n",
       "      <td>A</td>\n",
       "      <td>local</td>\n",
       "      <td>old</td>\n",
       "      <td>old</td>\n",
       "      <td>0</td>\n",
       "    </tr>\n",
       "    <tr>\n",
       "      <th>2</th>\n",
       "      <td>A</td>\n",
       "      <td>school</td>\n",
       "      <td>contextual</td>\n",
       "      <td>young</td>\n",
       "      <td>young</td>\n",
       "      <td>25</td>\n",
       "    </tr>\n",
       "    <tr>\n",
       "      <th>3</th>\n",
       "      <td>A</td>\n",
       "      <td>school</td>\n",
       "      <td>contextual</td>\n",
       "      <td>old</td>\n",
       "      <td>old</td>\n",
       "      <td>0</td>\n",
       "    </tr>\n",
       "    <tr>\n",
       "      <th>4</th>\n",
       "      <td>B</td>\n",
       "      <td>B</td>\n",
       "      <td>local</td>\n",
       "      <td>young</td>\n",
       "      <td>young</td>\n",
       "      <td>0</td>\n",
       "    </tr>\n",
       "    <tr>\n",
       "      <th>5</th>\n",
       "      <td>B</td>\n",
       "      <td>B</td>\n",
       "      <td>local</td>\n",
       "      <td>old</td>\n",
       "      <td>old</td>\n",
       "      <td>0</td>\n",
       "    </tr>\n",
       "    <tr>\n",
       "      <th>6</th>\n",
       "      <td>B</td>\n",
       "      <td>school</td>\n",
       "      <td>contextual</td>\n",
       "      <td>young</td>\n",
       "      <td>young</td>\n",
       "      <td>50</td>\n",
       "    </tr>\n",
       "    <tr>\n",
       "      <th>7</th>\n",
       "      <td>B</td>\n",
       "      <td>school</td>\n",
       "      <td>contextual</td>\n",
       "      <td>old</td>\n",
       "      <td>old</td>\n",
       "      <td>0</td>\n",
       "    </tr>\n",
       "    <tr>\n",
       "      <th>8</th>\n",
       "      <td>C</td>\n",
       "      <td>C</td>\n",
       "      <td>local</td>\n",
       "      <td>young</td>\n",
       "      <td>young</td>\n",
       "      <td>0</td>\n",
       "    </tr>\n",
       "    <tr>\n",
       "      <th>9</th>\n",
       "      <td>C</td>\n",
       "      <td>C</td>\n",
       "      <td>local</td>\n",
       "      <td>old</td>\n",
       "      <td>old</td>\n",
       "      <td>0</td>\n",
       "    </tr>\n",
       "    <tr>\n",
       "      <th>10</th>\n",
       "      <td>C</td>\n",
       "      <td>school</td>\n",
       "      <td>contextual</td>\n",
       "      <td>young</td>\n",
       "      <td>young</td>\n",
       "      <td>25</td>\n",
       "    </tr>\n",
       "    <tr>\n",
       "      <th>11</th>\n",
       "      <td>C</td>\n",
       "      <td>school</td>\n",
       "      <td>contextual</td>\n",
       "      <td>old</td>\n",
       "      <td>old</td>\n",
       "      <td>0</td>\n",
       "    </tr>\n",
       "    <tr>\n",
       "      <th>12</th>\n",
       "      <td>A</td>\n",
       "      <td>B</td>\n",
       "      <td>local</td>\n",
       "      <td>young</td>\n",
       "      <td>young</td>\n",
       "      <td>0</td>\n",
       "    </tr>\n",
       "    <tr>\n",
       "      <th>13</th>\n",
       "      <td>A</td>\n",
       "      <td>B</td>\n",
       "      <td>local</td>\n",
       "      <td>old</td>\n",
       "      <td>old</td>\n",
       "      <td>0</td>\n",
       "    </tr>\n",
       "    <tr>\n",
       "      <th>14</th>\n",
       "      <td>B</td>\n",
       "      <td>A</td>\n",
       "      <td>local</td>\n",
       "      <td>young</td>\n",
       "      <td>young</td>\n",
       "      <td>0</td>\n",
       "    </tr>\n",
       "    <tr>\n",
       "      <th>15</th>\n",
       "      <td>B</td>\n",
       "      <td>A</td>\n",
       "      <td>local</td>\n",
       "      <td>old</td>\n",
       "      <td>old</td>\n",
       "      <td>0</td>\n",
       "    </tr>\n",
       "    <tr>\n",
       "      <th>16</th>\n",
       "      <td>A</td>\n",
       "      <td>C</td>\n",
       "      <td>local</td>\n",
       "      <td>young</td>\n",
       "      <td>young</td>\n",
       "      <td>0</td>\n",
       "    </tr>\n",
       "    <tr>\n",
       "      <th>17</th>\n",
       "      <td>A</td>\n",
       "      <td>C</td>\n",
       "      <td>local</td>\n",
       "      <td>old</td>\n",
       "      <td>old</td>\n",
       "      <td>0</td>\n",
       "    </tr>\n",
       "    <tr>\n",
       "      <th>18</th>\n",
       "      <td>C</td>\n",
       "      <td>B</td>\n",
       "      <td>local</td>\n",
       "      <td>young</td>\n",
       "      <td>young</td>\n",
       "      <td>0</td>\n",
       "    </tr>\n",
       "    <tr>\n",
       "      <th>19</th>\n",
       "      <td>C</td>\n",
       "      <td>B</td>\n",
       "      <td>local</td>\n",
       "      <td>old</td>\n",
       "      <td>old</td>\n",
       "      <td>0</td>\n",
       "    </tr>\n",
       "    <tr>\n",
       "      <th>20</th>\n",
       "      <td>C</td>\n",
       "      <td>A</td>\n",
       "      <td>local</td>\n",
       "      <td>young</td>\n",
       "      <td>young</td>\n",
       "      <td>0</td>\n",
       "    </tr>\n",
       "    <tr>\n",
       "      <th>21</th>\n",
       "      <td>C</td>\n",
       "      <td>A</td>\n",
       "      <td>local</td>\n",
       "      <td>old</td>\n",
       "      <td>old</td>\n",
       "      <td>0</td>\n",
       "    </tr>\n",
       "  </tbody>\n",
       "</table>\n",
       "</div>"
      ],
      "text/plain": [
       "   source destination destination_type age_src age_dest   n\n",
       "0       A           A            local   young    young   0\n",
       "1       A           A            local     old      old   0\n",
       "2       A      school       contextual   young    young  25\n",
       "3       A      school       contextual     old      old   0\n",
       "4       B           B            local   young    young   0\n",
       "5       B           B            local     old      old   0\n",
       "6       B      school       contextual   young    young  50\n",
       "7       B      school       contextual     old      old   0\n",
       "8       C           C            local   young    young   0\n",
       "9       C           C            local     old      old   0\n",
       "10      C      school       contextual   young    young  25\n",
       "11      C      school       contextual     old      old   0\n",
       "12      A           B            local   young    young   0\n",
       "13      A           B            local     old      old   0\n",
       "14      B           A            local   young    young   0\n",
       "15      B           A            local     old      old   0\n",
       "16      A           C            local   young    young   0\n",
       "17      A           C            local     old      old   0\n",
       "18      C           B            local   young    young   0\n",
       "19      C           B            local     old      old   0\n",
       "20      C           A            local   young    young   0\n",
       "21      C           A            local     old      old   0"
      ]
     },
     "execution_count": 41,
     "metadata": {},
     "output_type": "execute_result"
    }
   ],
   "source": [
    "travel3"
   ]
  },
  {
   "cell_type": "code",
   "execution_count": 43,
   "metadata": {},
   "outputs": [
    {
     "name": "stdout",
     "output_type": "stream",
     "text": [
      "mismatched partitioned and baseline contacts\n",
      "age_i                                 young\n",
      "age_j                                 young\n",
      "partitioned_per_capita_contacts    0.185526\n",
      "age1                                  young\n",
      "age2                                  young\n",
      "daily_per_capita_contacts                 5\n",
      "Name: 1, dtype: object\n"
     ]
    }
   ],
   "source": [
    "partition3 = partition_contacts(travel3, contact, daily_timesteps=10)\n",
    "phi_matrix3 = contact_matrix(partition3)\n",
    "pop_s, pop_e, pop_i, pop_r = update_start_pop(travel3)\n",
    "test3 = deepcopy(params_template)\n",
    "test3['phi'] = phi_matrix3\n",
    "test3['start_S'] = pop_s\n",
    "test3['start_E'] = pop_e\n",
    "test3['start_I'] = pop_i\n",
    "test3['start_R'] = pop_r\n",
    "test3['n_nodes'] = 3"
   ]
  },
  {
   "cell_type": "code",
   "execution_count": 44,
   "metadata": {},
   "outputs": [],
   "source": [
    "test3_model = SEIR(test3)\n",
    "test3_model.seir()"
   ]
  },
  {
   "cell_type": "code",
   "execution_count": 45,
   "metadata": {},
   "outputs": [],
   "source": [
    "ref3 = deepcopy(params_template)\n",
    "ref3['phi'] = [[[[5/10, 0], [0, 0]]]]\n",
    "ref3_s = np.array([sorted(travel3.groupby(['age_src'])['n'].sum(), reverse=True)])\n",
    "ref3['start_S'] = ref3_s[0, 0] - 3\n",
    "ref3['start_E'] = np.array([[0, 0]])\n",
    "ref3['start_I'] = np.array([[3, 0]])\n",
    "ref3['start_R'] = np.array([[0, 0]])\n",
    "ref3['n_nodes'] = 1"
   ]
  },
  {
   "cell_type": "code",
   "execution_count": 46,
   "metadata": {},
   "outputs": [],
   "source": [
    "ref3_model = SEIR(ref3)\n",
    "ref3_model.seir()"
   ]
  },
  {
   "cell_type": "code",
   "execution_count": 47,
   "metadata": {},
   "outputs": [
    {
     "data": {
      "image/png": "[encoded data removed]",
      "text/plain": [
       "<Figure size 576x360 with 1 Axes>"
      ]
     },
     "metadata": {
      "needs_background": "light"
     },
     "output_type": "display_data"
    }
   ],
   "source": [
    "test3_model.plot_timeseries()"
   ]
  },
  {
   "cell_type": "code",
   "execution_count": 48,
   "metadata": {},
   "outputs": [
    {
     "data": {
      "image/png": "[encoded data removed]",
      "text/plain": [
       "<Figure size 576x360 with 1 Axes>"
      ]
     },
     "metadata": {
      "needs_background": "light"
     },
     "output_type": "display_data"
    }
   ],
   "source": [
    "ref3_model.plot_timeseries()"
   ]
  },
  {
   "cell_type": "code",
   "execution_count": 49,
   "metadata": {},
   "outputs": [
    {
     "data": {
      "text/plain": [
       "97"
      ]
     },
     "execution_count": 49,
     "metadata": {},
     "output_type": "execute_result"
    }
   ],
   "source": [
    "ref3['start_S']"
   ]
  },
  {
   "cell_type": "code",
   "execution_count": 50,
   "metadata": {},
   "outputs": [
    {
     "name": "stdout",
     "output_type": "stream",
     "text": [
      "Differing values for exposed timeseries.\n",
      "Differing values for infected timeseries.\n",
      "Differing values for recovered timeseries.\n"
     ]
    }
   ],
   "source": [
    "s3_diff, e3_diff, i3_diff, r3_diff = test_partition(test3_model, ref3_model, atol=0.1, rtol=0.09)"
   ]
  },
  {
   "cell_type": "code",
   "execution_count": 51,
   "metadata": {},
   "outputs": [
    {
     "data": {
      "image/png": "[encoded data removed]",
      "text/plain": [
       "<Figure size 576x360 with 1 Axes>"
      ]
     },
     "metadata": {
      "needs_background": "light"
     },
     "output_type": "display_data"
    }
   ],
   "source": [
    "fig, ax = plt.subplots(1, 1, figsize=(8, 5))\n",
    "\n",
    "s3_diff.plot(ax=ax, color='b')\n",
    "e3_diff.plot(ax=ax, color='g')\n",
    "i3_diff.plot(ax=ax, color='r')\n",
    "r3_diff.plot(ax=ax, color='k')\n",
    "\n",
    "plt.legend((\"S\", \"E\", \"I\", \"R\"), loc=0)\n",
    "plt.ylabel(\"N Partition - N Baseline\")\n",
    "plt.xlabel(\"Time\")\n",
    "plt.xticks(rotation=45)\n",
    "plt.title(\"Three Local, One Contextual vs Baseline Mixing = 5 contacts/person/day\")\n",
    "plt.tight_layout()\n",
    "ax.set_ylim(-2, 3)\n",
    "plt.axhline(y=0, c='gray', ls='dotted')\n",
    "\n",
    "plt.show()"
   ]
  },
  {
   "cell_type": "code",
   "execution_count": 52,
   "metadata": {},
   "outputs": [],
   "source": [
    "local3v2_contact5_s = s3_diff - s_diff\n",
    "local3v2_contact5_e = e3_diff - e_diff\n",
    "local3v2_contact5_i = i3_diff - i_diff\n",
    "local3v2_contact5_r = r3_diff - r_diff"
   ]
  },
  {
   "cell_type": "code",
   "execution_count": 53,
   "metadata": {},
   "outputs": [
    {
     "data": {
      "image/png": "[encoded data removed]",
      "text/plain": [
       "<Figure size 576x360 with 1 Axes>"
      ]
     },
     "metadata": {
      "needs_background": "light"
     },
     "output_type": "display_data"
    }
   ],
   "source": [
    "fig, ax = plt.subplots(1, 1, figsize=(8, 5))\n",
    "\n",
    "local3v2_contact5_s.plot(ax=ax, color='b')\n",
    "local3v2_contact5_e.plot(ax=ax, color='g')\n",
    "local3v2_contact5_i.plot(ax=ax, color='r')\n",
    "local3v2_contact5_r.plot(ax=ax, color='k')\n",
    "\n",
    "plt.legend((\"S\", \"E\", \"I\", \"R\"), loc=0)\n",
    "plt.ylabel(\"Population Size\")\n",
    "plt.xlabel(\"Time\")\n",
    "plt.xticks(rotation=45)\n",
    "plt.title(\"Three Local, One Contextual vs Two Local, One Contextual\")\n",
    "plt.tight_layout()\n",
    "\n",
    "plt.show()"
   ]
  },
  {
   "cell_type": "code",
   "execution_count": 54,
   "metadata": {},
   "outputs": [
    {
     "data": {
      "image/png": "[encoded data removed]",
      "text/plain": [
       "<Figure size 576x360 with 1 Axes>"
      ]
     },
     "metadata": {
      "needs_background": "light"
     },
     "output_type": "display_data"
    }
   ],
   "source": [
    "ref3_model.plot_timeseries()"
   ]
  },
  {
   "cell_type": "code",
   "execution_count": 55,
   "metadata": {},
   "outputs": [
    {
     "data": {
      "text/html": [
       "<div><svg style=\"position: absolute; width: 0; height: 0; overflow: hidden\">\n",
       "<defs>\n",
       "<symbol id=\"icon-database\" viewBox=\"0 0 32 32\">\n",
       "<path d=\"M16 0c-8.837 0-16 2.239-16 5v4c0 2.761 7.163 5 16 5s16-2.239 16-5v-4c0-2.761-7.163-5-16-5z\"></path>\n",
       "<path d=\"M16 17c-8.837 0-16-2.239-16-5v6c0 2.761 7.163 5 16 5s16-2.239 16-5v-6c0 2.761-7.163 5-16 5z\"></path>\n",
       "<path d=\"M16 26c-8.837 0-16-2.239-16-5v6c0 2.761 7.163 5 16 5s16-2.239 16-5v-6c0 2.761-7.163 5-16 5z\"></path>\n",
       "</symbol>\n",
       "<symbol id=\"icon-file-text2\" viewBox=\"0 0 32 32\">\n",
       "<path d=\"M28.681 7.159c-0.694-0.947-1.662-2.053-2.724-3.116s-2.169-2.030-3.116-2.724c-1.612-1.182-2.393-1.319-2.841-1.319h-15.5c-1.378 0-2.5 1.121-2.5 2.5v27c0 1.378 1.122 2.5 2.5 2.5h23c1.378 0 2.5-1.122 2.5-2.5v-19.5c0-0.448-0.137-1.23-1.319-2.841zM24.543 5.457c0.959 0.959 1.712 1.825 2.268 2.543h-4.811v-4.811c0.718 0.556 1.584 1.309 2.543 2.268zM28 29.5c0 0.271-0.229 0.5-0.5 0.5h-23c-0.271 0-0.5-0.229-0.5-0.5v-27c0-0.271 0.229-0.5 0.5-0.5 0 0 15.499-0 15.5 0v7c0 0.552 0.448 1 1 1h7v19.5z\"></path>\n",
       "<path d=\"M23 26h-14c-0.552 0-1-0.448-1-1s0.448-1 1-1h14c0.552 0 1 0.448 1 1s-0.448 1-1 1z\"></path>\n",
       "<path d=\"M23 22h-14c-0.552 0-1-0.448-1-1s0.448-1 1-1h14c0.552 0 1 0.448 1 1s-0.448 1-1 1z\"></path>\n",
       "<path d=\"M23 18h-14c-0.552 0-1-0.448-1-1s0.448-1 1-1h14c0.552 0 1 0.448 1 1s-0.448 1-1 1z\"></path>\n",
       "</symbol>\n",
       "</defs>\n",
       "</svg>\n",
       "<style>/* CSS stylesheet for displaying xarray objects in jupyterlab.\n",
       " *\n",
       " */\n",
       "\n",
       ":root {\n",
       "  --xr-font-color0: var(--jp-content-font-color0, rgba(0, 0, 0, 1));\n",
       "  --xr-font-color2: var(--jp-content-font-color2, rgba(0, 0, 0, 0.54));\n",
       "  --xr-font-color3: var(--jp-content-font-color3, rgba(0, 0, 0, 0.38));\n",
       "  --xr-border-color: var(--jp-border-color2, #e0e0e0);\n",
       "  --xr-disabled-color: var(--jp-layout-color3, #bdbdbd);\n",
       "  --xr-background-color: var(--jp-layout-color0, white);\n",
       "  --xr-background-color-row-even: var(--jp-layout-color1, white);\n",
       "  --xr-background-color-row-odd: var(--jp-layout-color2, #eeeeee);\n",
       "}\n",
       "\n",
       "html[theme=dark],\n",
       "body.vscode-dark {\n",
       "  --xr-font-color0: rgba(255, 255, 255, 1);\n",
       "  --xr-font-color2: rgba(255, 255, 255, 0.54);\n",
       "  --xr-font-color3: rgba(255, 255, 255, 0.38);\n",
       "  --xr-border-color: #1F1F1F;\n",
       "  --xr-disabled-color: #515151;\n",
       "  --xr-background-color: #111111;\n",
       "  --xr-background-color-row-even: #111111;\n",
       "  --xr-background-color-row-odd: #313131;\n",
       "}\n",
       "\n",
       ".xr-wrap {\n",
       "  display: block;\n",
       "  min-width: 300px;\n",
       "  max-width: 700px;\n",
       "}\n",
       "\n",
       ".xr-text-repr-fallback {\n",
       "  /* fallback to plain text repr when CSS is not injected (untrusted notebook) */\n",
       "  display: none;\n",
       "}\n",
       "\n",
       ".xr-header {\n",
       "  padding-top: 6px;\n",
       "  padding-bottom: 6px;\n",
       "  margin-bottom: 4px;\n",
       "  border-bottom: solid 1px var(--xr-border-color);\n",
       "}\n",
       "\n",
       ".xr-header > div,\n",
       ".xr-header > ul {\n",
       "  display: inline;\n",
       "  margin-top: 0;\n",
       "  margin-bottom: 0;\n",
       "}\n",
       "\n",
       ".xr-obj-type,\n",
       ".xr-array-name {\n",
       "  margin-left: 2px;\n",
       "  margin-right: 10px;\n",
       "}\n",
       "\n",
       ".xr-obj-type {\n",
       "  color: var(--xr-font-color2);\n",
       "}\n",
       "\n",
       ".xr-sections {\n",
       "  padding-left: 0 !important;\n",
       "  display: grid;\n",
       "  grid-template-columns: 150px auto auto 1fr 20px 20px;\n",
       "}\n",
       "\n",
       ".xr-section-item {\n",
       "  display: contents;\n",
       "}\n",
       "\n",
       ".xr-section-item input {\n",
       "  display: none;\n",
       "}\n",
       "\n",
       ".xr-section-item input + label {\n",
       "  color: var(--xr-disabled-color);\n",
       "}\n",
       "\n",
       ".xr-section-item input:enabled + label {\n",
       "  cursor: pointer;\n",
       "  color: var(--xr-font-color2);\n",
       "}\n",
       "\n",
       ".xr-section-item input:enabled + label:hover {\n",
       "  color: var(--xr-font-color0);\n",
       "}\n",
       "\n",
       ".xr-section-summary {\n",
       "  grid-column: 1;\n",
       "  color: var(--xr-font-color2);\n",
       "  font-weight: 500;\n",
       "}\n",
       "\n",
       ".xr-section-summary > span {\n",
       "  display: inline-block;\n",
       "  padding-left: 0.5em;\n",
       "}\n",
       "\n",
       ".xr-section-summary-in:disabled + label {\n",
       "  color: var(--xr-font-color2);\n",
       "}\n",
       "\n",
       ".xr-section-summary-in + label:before {\n",
       "  display: inline-block;\n",
       "  content: '►';\n",
       "  font-size: 11px;\n",
       "  width: 15px;\n",
       "  text-align: center;\n",
       "}\n",
       "\n",
       ".xr-section-summary-in:disabled + label:before {\n",
       "  color: var(--xr-disabled-color);\n",
       "}\n",
       "\n",
       ".xr-section-summary-in:checked + label:before {\n",
       "  content: '▼';\n",
       "}\n",
       "\n",
       ".xr-section-summary-in:checked + label > span {\n",
       "  display: none;\n",
       "}\n",
       "\n",
       ".xr-section-summary,\n",
       ".xr-section-inline-details {\n",
       "  padding-top: 4px;\n",
       "  padding-bottom: 4px;\n",
       "}\n",
       "\n",
       ".xr-section-inline-details {\n",
       "  grid-column: 2 / -1;\n",
       "}\n",
       "\n",
       ".xr-section-details {\n",
       "  display: none;\n",
       "  grid-column: 1 / -1;\n",
       "  margin-bottom: 5px;\n",
       "}\n",
       "\n",
       ".xr-section-summary-in:checked ~ .xr-section-details {\n",
       "  display: contents;\n",
       "}\n",
       "\n",
       ".xr-array-wrap {\n",
       "  grid-column: 1 / -1;\n",
       "  display: grid;\n",
       "  grid-template-columns: 20px auto;\n",
       "}\n",
       "\n",
       ".xr-array-wrap > label {\n",
       "  grid-column: 1;\n",
       "  vertical-align: top;\n",
       "}\n",
       "\n",
       ".xr-preview {\n",
       "  color: var(--xr-font-color3);\n",
       "}\n",
       "\n",
       ".xr-array-preview,\n",
       ".xr-array-data {\n",
       "  padding: 0 5px !important;\n",
       "  grid-column: 2;\n",
       "}\n",
       "\n",
       ".xr-array-data,\n",
       ".xr-array-in:checked ~ .xr-array-preview {\n",
       "  display: none;\n",
       "}\n",
       "\n",
       ".xr-array-in:checked ~ .xr-array-data,\n",
       ".xr-array-preview {\n",
       "  display: inline-block;\n",
       "}\n",
       "\n",
       ".xr-dim-list {\n",
       "  display: inline-block !important;\n",
       "  list-style: none;\n",
       "  padding: 0 !important;\n",
       "  margin: 0;\n",
       "}\n",
       "\n",
       ".xr-dim-list li {\n",
       "  display: inline-block;\n",
       "  padding: 0;\n",
       "  margin: 0;\n",
       "}\n",
       "\n",
       ".xr-dim-list:before {\n",
       "  content: '(';\n",
       "}\n",
       "\n",
       ".xr-dim-list:after {\n",
       "  content: ')';\n",
       "}\n",
       "\n",
       ".xr-dim-list li:not(:last-child):after {\n",
       "  content: ',';\n",
       "  padding-right: 5px;\n",
       "}\n",
       "\n",
       ".xr-has-index {\n",
       "  font-weight: bold;\n",
       "}\n",
       "\n",
       ".xr-var-list,\n",
       ".xr-var-item {\n",
       "  display: contents;\n",
       "}\n",
       "\n",
       ".xr-var-item > div,\n",
       ".xr-var-item label,\n",
       ".xr-var-item > .xr-var-name span {\n",
       "  background-color: var(--xr-background-color-row-even);\n",
       "  margin-bottom: 0;\n",
       "}\n",
       "\n",
       ".xr-var-item > .xr-var-name:hover span {\n",
       "  padding-right: 5px;\n",
       "}\n",
       "\n",
       ".xr-var-list > li:nth-child(odd) > div,\n",
       ".xr-var-list > li:nth-child(odd) > label,\n",
       ".xr-var-list > li:nth-child(odd) > .xr-var-name span {\n",
       "  background-color: var(--xr-background-color-row-odd);\n",
       "}\n",
       "\n",
       ".xr-var-name {\n",
       "  grid-column: 1;\n",
       "}\n",
       "\n",
       ".xr-var-dims {\n",
       "  grid-column: 2;\n",
       "}\n",
       "\n",
       ".xr-var-dtype {\n",
       "  grid-column: 3;\n",
       "  text-align: right;\n",
       "  color: var(--xr-font-color2);\n",
       "}\n",
       "\n",
       ".xr-var-preview {\n",
       "  grid-column: 4;\n",
       "}\n",
       "\n",
       ".xr-var-name,\n",
       ".xr-var-dims,\n",
       ".xr-var-dtype,\n",
       ".xr-preview,\n",
       ".xr-attrs dt {\n",
       "  white-space: nowrap;\n",
       "  overflow: hidden;\n",
       "  text-overflow: ellipsis;\n",
       "  padding-right: 10px;\n",
       "}\n",
       "\n",
       ".xr-var-name:hover,\n",
       ".xr-var-dims:hover,\n",
       ".xr-var-dtype:hover,\n",
       ".xr-attrs dt:hover {\n",
       "  overflow: visible;\n",
       "  width: auto;\n",
       "  z-index: 1;\n",
       "}\n",
       "\n",
       ".xr-var-attrs,\n",
       ".xr-var-data {\n",
       "  display: none;\n",
       "  background-color: var(--xr-background-color) !important;\n",
       "  padding-bottom: 5px !important;\n",
       "}\n",
       "\n",
       ".xr-var-attrs-in:checked ~ .xr-var-attrs,\n",
       ".xr-var-data-in:checked ~ .xr-var-data {\n",
       "  display: block;\n",
       "}\n",
       "\n",
       ".xr-var-data > table {\n",
       "  float: right;\n",
       "}\n",
       "\n",
       ".xr-var-name span,\n",
       ".xr-var-data,\n",
       ".xr-attrs {\n",
       "  padding-left: 25px !important;\n",
       "}\n",
       "\n",
       ".xr-attrs,\n",
       ".xr-var-attrs,\n",
       ".xr-var-data {\n",
       "  grid-column: 1 / -1;\n",
       "}\n",
       "\n",
       "dl.xr-attrs {\n",
       "  padding: 0;\n",
       "  margin: 0;\n",
       "  display: grid;\n",
       "  grid-template-columns: 125px auto;\n",
       "}\n",
       "\n",
       ".xr-attrs dt,\n",
       ".xr-attrs dd {\n",
       "  padding: 0;\n",
       "  margin: 0;\n",
       "  float: left;\n",
       "  padding-right: 10px;\n",
       "  width: auto;\n",
       "}\n",
       "\n",
       ".xr-attrs dt {\n",
       "  font-weight: normal;\n",
       "  grid-column: 1;\n",
       "}\n",
       "\n",
       ".xr-attrs dt:hover span {\n",
       "  display: inline-block;\n",
       "  background: var(--xr-background-color);\n",
       "  padding-right: 10px;\n",
       "}\n",
       "\n",
       ".xr-attrs dd {\n",
       "  grid-column: 2;\n",
       "  white-space: pre-wrap;\n",
       "  word-break: break-all;\n",
       "}\n",
       "\n",
       ".xr-icon-database,\n",
       ".xr-icon-file-text2 {\n",
       "  display: inline-block;\n",
       "  vertical-align: middle;\n",
       "  width: 1em;\n",
       "  height: 1.5em !important;\n",
       "  stroke-width: 0;\n",
       "  stroke: currentColor;\n",
       "  fill: currentColor;\n",
       "}\n",
       "</style><pre class='xr-text-repr-fallback'>&lt;xarray.Dataset&gt;\n",
       "Dimensions:  (age: 2, node: 3, time: 300)\n",
       "Coordinates:\n",
       "  * time     (time) int64 0 1 2 3 4 5 6 7 8 ... 292 293 294 295 296 297 298 299\n",
       "  * age      (age) &lt;U5 &#x27;young&#x27; &#x27;old&#x27;\n",
       "  * node     (node) int64 0 1 2\n",
       "Data variables:\n",
       "    S        (time, node, age) float64 24.0 0.0 49.0 0.0 ... 48.97 0.0 23.97 0.0\n",
       "    E        (time, node, age) float64 0.0 0.0 0.0 0.0 ... 0.0 2.099e-05 0.0\n",
       "    I        (time, node, age) float64 1.0 0.0 1.0 0.0 ... 0.0 0.00162 0.0\n",
       "    R        (time, node, age) float64 0.0 0.0 0.0 0.0 ... 1.027 0.0 1.026 0.0</pre><div class='xr-wrap' hidden><div class='xr-header'><div class='xr-obj-type'>xarray.Dataset</div></div><ul class='xr-sections'><li class='xr-section-item'><input id='section-bcded583-d529-472b-9c8c-8aa93dd50ebc' class='xr-section-summary-in' type='checkbox' disabled ><label for='section-bcded583-d529-472b-9c8c-8aa93dd50ebc' class='xr-section-summary'  title='Expand/collapse section'>Dimensions:</label><div class='xr-section-inline-details'><ul class='xr-dim-list'><li><span class='xr-has-index'>age</span>: 2</li><li><span class='xr-has-index'>node</span>: 3</li><li><span class='xr-has-index'>time</span>: 300</li></ul></div><div class='xr-section-details'></div></li><li class='xr-section-item'><input id='section-5b297c06-d535-42f0-b637-55246ed099d0' class='xr-section-summary-in' type='checkbox'  checked><label for='section-5b297c06-d535-42f0-b637-55246ed099d0' class='xr-section-summary' >Coordinates: <span>(3)</span></label><div class='xr-section-inline-details'></div><div class='xr-section-details'><ul class='xr-var-list'><li class='xr-var-item'><div class='xr-var-name'><span class='xr-has-index'>time</span></div><div class='xr-var-dims'>(time)</div><div class='xr-var-dtype'>int64</div><div class='xr-var-preview xr-preview'>0 1 2 3 4 5 ... 295 296 297 298 299</div><input id='attrs-6ecab3f6-785f-4c70-a5be-ef221e5575c1' class='xr-var-attrs-in' type='checkbox' disabled><label for='attrs-6ecab3f6-785f-4c70-a5be-ef221e5575c1' title='Show/Hide attributes'><svg class='icon xr-icon-file-text2'><use xlink:href='#icon-file-text2'></use></svg></label><input id='data-e435c85f-957d-45e5-9ecd-e13566f891d6' class='xr-var-data-in' type='checkbox'><label for='data-e435c85f-957d-45e5-9ecd-e13566f891d6' title='Show/Hide data repr'><svg class='icon xr-icon-database'><use xlink:href='#icon-database'></use></svg></label><div class='xr-var-attrs'><dl class='xr-attrs'></dl></div><div class='xr-var-data'><pre>array([  0,   1,   2, ..., 297, 298, 299])</pre></div></li><li class='xr-var-item'><div class='xr-var-name'><span class='xr-has-index'>age</span></div><div class='xr-var-dims'>(age)</div><div class='xr-var-dtype'>&lt;U5</div><div class='xr-var-preview xr-preview'>&#x27;young&#x27; &#x27;old&#x27;</div><input id='attrs-b657fe90-ea35-42f4-b463-ee720cf1b815' class='xr-var-attrs-in' type='checkbox' disabled><label for='attrs-b657fe90-ea35-42f4-b463-ee720cf1b815' title='Show/Hide attributes'><svg class='icon xr-icon-file-text2'><use xlink:href='#icon-file-text2'></use></svg></label><input id='data-5b57f097-3365-4d89-ba5e-4ad2122dce56' class='xr-var-data-in' type='checkbox'><label for='data-5b57f097-3365-4d89-ba5e-4ad2122dce56' title='Show/Hide data repr'><svg class='icon xr-icon-database'><use xlink:href='#icon-database'></use></svg></label><div class='xr-var-attrs'><dl class='xr-attrs'></dl></div><div class='xr-var-data'><pre>array([&#x27;young&#x27;, &#x27;old&#x27;], dtype=&#x27;&lt;U5&#x27;)</pre></div></li><li class='xr-var-item'><div class='xr-var-name'><span class='xr-has-index'>node</span></div><div class='xr-var-dims'>(node)</div><div class='xr-var-dtype'>int64</div><div class='xr-var-preview xr-preview'>0 1 2</div><input id='attrs-c2c51206-07ff-4d00-8f3d-10fa8197f391' class='xr-var-attrs-in' type='checkbox' disabled><label for='attrs-c2c51206-07ff-4d00-8f3d-10fa8197f391' title='Show/Hide attributes'><svg class='icon xr-icon-file-text2'><use xlink:href='#icon-file-text2'></use></svg></label><input id='data-97a70dee-9792-4d6b-a717-a7807f150800' class='xr-var-data-in' type='checkbox'><label for='data-97a70dee-9792-4d6b-a717-a7807f150800' title='Show/Hide data repr'><svg class='icon xr-icon-database'><use xlink:href='#icon-database'></use></svg></label><div class='xr-var-attrs'><dl class='xr-attrs'></dl></div><div class='xr-var-data'><pre>array([0, 1, 2])</pre></div></li></ul></div></li><li class='xr-section-item'><input id='section-ee1fcc55-9ce7-4e0f-bf9d-ae9ab1d16a73' class='xr-section-summary-in' type='checkbox'  checked><label for='section-ee1fcc55-9ce7-4e0f-bf9d-ae9ab1d16a73' class='xr-section-summary' >Data variables: <span>(4)</span></label><div class='xr-section-inline-details'></div><div class='xr-section-details'><ul class='xr-var-list'><li class='xr-var-item'><div class='xr-var-name'><span>S</span></div><div class='xr-var-dims'>(time, node, age)</div><div class='xr-var-dtype'>float64</div><div class='xr-var-preview xr-preview'>24.0 0.0 49.0 0.0 ... 0.0 23.97 0.0</div><input id='attrs-7448bead-d9b3-4652-8a29-6a1cd0e3a0d1' class='xr-var-attrs-in' type='checkbox' disabled><label for='attrs-7448bead-d9b3-4652-8a29-6a1cd0e3a0d1' title='Show/Hide attributes'><svg class='icon xr-icon-file-text2'><use xlink:href='#icon-file-text2'></use></svg></label><input id='data-47bfd490-21b8-426a-9bd3-2a800b056731' class='xr-var-data-in' type='checkbox'><label for='data-47bfd490-21b8-426a-9bd3-2a800b056731' title='Show/Hide data repr'><svg class='icon xr-icon-database'><use xlink:href='#icon-database'></use></svg></label><div class='xr-var-attrs'><dl class='xr-attrs'></dl></div><div class='xr-var-data'><pre>array([[[24.        ,  0.        ],\n",
       "        [49.        ,  0.        ],\n",
       "        [24.        ,  0.        ]],\n",
       "\n",
       "       [[23.99940632,  0.        ],\n",
       "        [48.99939395,  0.        ],\n",
       "        [23.99940632,  0.        ]],\n",
       "\n",
       "       [[23.99882575,  0.        ],\n",
       "        [48.99880128,  0.        ],\n",
       "        [23.99882575,  0.        ]],\n",
       "\n",
       "       ...,\n",
       "\n",
       "       [[23.97241635,  0.        ],\n",
       "        [48.9718175 ,  0.        ],\n",
       "        [23.97241635,  0.        ]],\n",
       "\n",
       "       [[23.97241535,  0.        ],\n",
       "        [48.97181647,  0.        ],\n",
       "        [23.97241535,  0.        ]],\n",
       "\n",
       "       [[23.97241437,  0.        ],\n",
       "        [48.97181547,  0.        ],\n",
       "        [23.97241437,  0.        ]]])</pre></div></li><li class='xr-var-item'><div class='xr-var-name'><span>E</span></div><div class='xr-var-dims'>(time, node, age)</div><div class='xr-var-dtype'>float64</div><div class='xr-var-preview xr-preview'>0.0 0.0 0.0 ... 0.0 2.099e-05 0.0</div><input id='attrs-c6eb0da7-316d-404c-8c0d-e4247e81197f' class='xr-var-attrs-in' type='checkbox' disabled><label for='attrs-c6eb0da7-316d-404c-8c0d-e4247e81197f' title='Show/Hide attributes'><svg class='icon xr-icon-file-text2'><use xlink:href='#icon-file-text2'></use></svg></label><input id='data-b1ee5e14-f1de-4585-a947-64f543b3a0bc' class='xr-var-data-in' type='checkbox'><label for='data-b1ee5e14-f1de-4585-a947-64f543b3a0bc' title='Show/Hide data repr'><svg class='icon xr-icon-database'><use xlink:href='#icon-database'></use></svg></label><div class='xr-var-attrs'><dl class='xr-attrs'></dl></div><div class='xr-var-data'><pre>array([[[0.00000000e+00, 0.00000000e+00],\n",
       "        [0.00000000e+00, 0.00000000e+00],\n",
       "        [0.00000000e+00, 0.00000000e+00]],\n",
       "\n",
       "       [[5.93681725e-04, 0.00000000e+00],\n",
       "        [6.06050094e-04, 0.00000000e+00],\n",
       "        [5.93681725e-04, 0.00000000e+00]],\n",
       "\n",
       "       [[1.13449109e-03, 0.00000000e+00],\n",
       "        [1.15813365e-03, 0.00000000e+00],\n",
       "        [1.13449109e-03, 0.00000000e+00]],\n",
       "\n",
       "       ...,\n",
       "\n",
       "       [[2.19041756e-05, 0.00000000e+00],\n",
       "        [2.24793781e-05, 0.00000000e+00],\n",
       "        [2.19041756e-05, 0.00000000e+00]],\n",
       "\n",
       "       [[2.14398159e-05, 0.00000000e+00],\n",
       "        [2.20032349e-05, 0.00000000e+00],\n",
       "        [2.14398159e-05, 0.00000000e+00]],\n",
       "\n",
       "       [[2.09853003e-05, 0.00000000e+00],\n",
       "        [2.15371770e-05, 0.00000000e+00],\n",
       "        [2.09853003e-05, 0.00000000e+00]]])</pre></div></li><li class='xr-var-item'><div class='xr-var-name'><span>I</span></div><div class='xr-var-dims'>(time, node, age)</div><div class='xr-var-dtype'>float64</div><div class='xr-var-preview xr-preview'>1.0 0.0 1.0 0.0 ... 0.0 0.00162 0.0</div><input id='attrs-3d91627f-a31a-4643-ab43-110582833b3d' class='xr-var-attrs-in' type='checkbox' disabled><label for='attrs-3d91627f-a31a-4643-ab43-110582833b3d' title='Show/Hide attributes'><svg class='icon xr-icon-file-text2'><use xlink:href='#icon-file-text2'></use></svg></label><input id='data-d4e6bd83-4956-4319-983d-d447bbce2b34' class='xr-var-data-in' type='checkbox'><label for='data-d4e6bd83-4956-4319-983d-d447bbce2b34' title='Show/Hide data repr'><svg class='icon xr-icon-database'><use xlink:href='#icon-database'></use></svg></label><div class='xr-var-attrs'><dl class='xr-attrs'></dl></div><div class='xr-var-data'><pre>array([[[1.        , 0.        ],\n",
       "        [1.        , 0.        ],\n",
       "        [1.        , 0.        ]],\n",
       "\n",
       "       [[0.97793277, 0.        ],\n",
       "        [0.97793277, 0.        ],\n",
       "        [0.97793277, 0.        ]],\n",
       "\n",
       "       [[0.95639226, 0.        ],\n",
       "        [0.95639309, 0.        ],\n",
       "        [0.95639226, 0.        ]],\n",
       "\n",
       "       ...,\n",
       "\n",
       "       [[0.00169055, 0.        ],\n",
       "        [0.00169924, 0.        ],\n",
       "        [0.00169055, 0.        ]],\n",
       "\n",
       "       [[0.00165471, 0.        ],\n",
       "        [0.00166325, 0.        ],\n",
       "        [0.00165471, 0.        ]],\n",
       "\n",
       "       [[0.00161964, 0.        ],\n",
       "        [0.00162802, 0.        ],\n",
       "        [0.00161964, 0.        ]]])</pre></div></li><li class='xr-var-item'><div class='xr-var-name'><span>R</span></div><div class='xr-var-dims'>(time, node, age)</div><div class='xr-var-dtype'>float64</div><div class='xr-var-preview xr-preview'>0.0 0.0 0.0 0.0 ... 0.0 1.026 0.0</div><input id='attrs-6ef09a58-e980-4482-823c-d195abf4db28' class='xr-var-attrs-in' type='checkbox' disabled><label for='attrs-6ef09a58-e980-4482-823c-d195abf4db28' title='Show/Hide attributes'><svg class='icon xr-icon-file-text2'><use xlink:href='#icon-file-text2'></use></svg></label><input id='data-b2623dca-0031-4573-ac79-085a7b458078' class='xr-var-data-in' type='checkbox'><label for='data-b2623dca-0031-4573-ac79-085a7b458078' title='Show/Hide data repr'><svg class='icon xr-icon-database'><use xlink:href='#icon-database'></use></svg></label><div class='xr-var-attrs'><dl class='xr-attrs'></dl></div><div class='xr-var-data'><pre>array([[[0.        , 0.        ],\n",
       "        [0.        , 0.        ],\n",
       "        [0.        , 0.        ]],\n",
       "\n",
       "       [[0.02206723, 0.        ],\n",
       "        [0.02206723, 0.        ],\n",
       "        [0.02206723, 0.        ]],\n",
       "\n",
       "       [[0.0436475 , 0.        ],\n",
       "        [0.0436475 , 0.        ],\n",
       "        [0.0436475 , 0.        ]],\n",
       "\n",
       "       ...,\n",
       "\n",
       "       [[1.02587119, 0.        ],\n",
       "        [1.02646077, 0.        ],\n",
       "        [1.02587119, 0.        ]],\n",
       "\n",
       "       [[1.02590849, 0.        ],\n",
       "        [1.02649827, 0.        ],\n",
       "        [1.02590849, 0.        ]],\n",
       "\n",
       "       [[1.02594501, 0.        ],\n",
       "        [1.02653498, 0.        ],\n",
       "        [1.02594501, 0.        ]]])</pre></div></li></ul></div></li><li class='xr-section-item'><input id='section-23f1bf34-0831-488c-9776-daa66ae11cfb' class='xr-section-summary-in' type='checkbox' disabled ><label for='section-23f1bf34-0831-488c-9776-daa66ae11cfb' class='xr-section-summary'  title='Expand/collapse section'>Attributes: <span>(0)</span></label><div class='xr-section-inline-details'></div><div class='xr-section-details'><dl class='xr-attrs'></dl></div></li></ul></div></div>"
      ],
      "text/plain": [
       "<xarray.Dataset>\n",
       "Dimensions:  (age: 2, node: 3, time: 300)\n",
       "Coordinates:\n",
       "  * time     (time) int64 0 1 2 3 4 5 6 7 8 ... 292 293 294 295 296 297 298 299\n",
       "  * age      (age) <U5 'young' 'old'\n",
       "  * node     (node) int64 0 1 2\n",
       "Data variables:\n",
       "    S        (time, node, age) float64 24.0 0.0 49.0 0.0 ... 48.97 0.0 23.97 0.0\n",
       "    E        (time, node, age) float64 0.0 0.0 0.0 0.0 ... 0.0 2.099e-05 0.0\n",
       "    I        (time, node, age) float64 1.0 0.0 1.0 0.0 ... 0.0 0.00162 0.0\n",
       "    R        (time, node, age) float64 0.0 0.0 0.0 0.0 ... 1.027 0.0 1.026 0.0"
      ]
     },
     "execution_count": 55,
     "metadata": {},
     "output_type": "execute_result"
    }
   ],
   "source": [
    "test3_model.final"
   ]
  },
  {
   "cell_type": "code",
   "execution_count": 56,
   "metadata": {},
   "outputs": [
    {
     "data": {
      "image/png": "[encoded data removed]",
      "text/plain": [
       "<Figure size 576x360 with 1 Axes>"
      ]
     },
     "metadata": {
      "needs_background": "light"
     },
     "output_type": "display_data"
    }
   ],
   "source": [
    "test3_model.plot_timeseries()"
   ]
  },
  {
   "cell_type": "code",
   "execution_count": 57,
   "metadata": {},
   "outputs": [
    {
     "name": "stdout",
     "output_type": "stream",
     "text": [
      "mismatched partitioned and baseline contacts\n",
      "age_i                                   young\n",
      "age_j                                   young\n",
      "partitioned_per_capita_contacts    0.00704092\n",
      "age1                                    young\n",
      "age2                                    young\n",
      "daily_per_capita_contacts            0.189756\n",
      "Name: 1, dtype: object\n"
     ]
    }
   ],
   "source": [
    "partition3_min = partition_contacts(travel3, min_contact, daily_timesteps=10)\n",
    "phi_matrix3_min = contact_matrix(partition3_min)\n",
    "\n",
    "test3_min = deepcopy(test3)\n",
    "test3_min['phi'] = phi_matrix3_min\n",
    "\n",
    "ref3_min = deepcopy(ref3)\n",
    "ref3_min['phi'] = [[[[min_cr/10, 0], [0, 0]]]]\n",
    "\n",
    "test3_min_model = SEIR(test3_min)\n",
    "test3_min_model.seir()\n",
    "\n",
    "ref3_min_model = SEIR(ref3_min)\n",
    "ref3_min_model.seir()"
   ]
  },
  {
   "cell_type": "code",
   "execution_count": 58,
   "metadata": {},
   "outputs": [],
   "source": [
    "s3_diff_min, e3_diff_min, i3_diff_min, r3_diff_min = test_partition(test3_min_model, ref3_min_model, atol=0.1, rtol=0.09)\n"
   ]
  },
  {
   "cell_type": "code",
   "execution_count": 59,
   "metadata": {},
   "outputs": [
    {
     "data": {
      "image/png": "[encoded data removed]",
      "text/plain": [
       "<Figure size 576x360 with 1 Axes>"
      ]
     },
     "metadata": {
      "needs_background": "light"
     },
     "output_type": "display_data"
    }
   ],
   "source": [
    "fig, ax = plt.subplots(1, 1, figsize=(8, 5))\n",
    "\n",
    "s3_diff_min.plot(ax=ax, color='b')\n",
    "e3_diff_min.plot(ax=ax, color='g')\n",
    "i3_diff_min.plot(ax=ax, color='r')\n",
    "r3_diff_min.plot(ax=ax, color='k')\n",
    "\n",
    "plt.legend((\"S\", \"E\", \"I\", \"R\"), loc=0)\n",
    "plt.ylabel(\"N Partition - N Baseline\")\n",
    "plt.xlabel(\"Time\")\n",
    "plt.xticks(rotation=45)\n",
    "plt.title(\"Three Local, One Contextual vs Baseline Mixing = 0.2 contacts/person/day\")\n",
    "plt.tight_layout()\n",
    "plt.axhline(y=0, c='gray', ls='dotted')\n",
    "ax.set_ylim(-2, 3)\n",
    "\n",
    "plt.show()"
   ]
  },
  {
   "cell_type": "code",
   "execution_count": 63,
   "metadata": {},
   "outputs": [
    {
     "name": "stdout",
     "output_type": "stream",
     "text": [
      "mismatched partitioned and baseline contacts\n",
      "age_i                                 young\n",
      "age_j                                 young\n",
      "partitioned_per_capita_contacts    0.379818\n",
      "age1                                  young\n",
      "age2                                  young\n",
      "daily_per_capita_contacts           10.2363\n",
      "Name: 1, dtype: object\n"
     ]
    }
   ],
   "source": [
    "partition3_max = partition_contacts(travel3, max_contact, daily_timesteps=10)\n",
    "phi_matrix3_max = contact_matrix(partition3_max)\n",
    "\n",
    "test3_max = deepcopy(test3)\n",
    "test3_max['phi'] = phi_matrix3_max\n",
    "\n",
    "ref3_max = deepcopy(ref3)\n",
    "ref3_max['phi'] = [[[[max_cr/10, 0], [0, 0]]]]\n",
    "\n",
    "test3_max_model = SEIR(test3_max)\n",
    "test3_max_model.seir()\n",
    "\n",
    "ref3_max_model = SEIR(ref3_max)\n",
    "ref3_max_model.seir()"
   ]
  },
  {
   "cell_type": "code",
   "execution_count": 64,
   "metadata": {},
   "outputs": [
    {
     "name": "stdout",
     "output_type": "stream",
     "text": [
      "Differing values for exposed timeseries.\n",
      "Differing values for infected timeseries.\n",
      "Differing values for recovered timeseries.\n"
     ]
    }
   ],
   "source": [
    "s3_diff_max, e3_diff_max, i3_diff_max, r3_diff_max = test_partition(test3_max_model, ref3_max_model, atol=0.1, rtol=0.09)\n"
   ]
  },
  {
   "cell_type": "code",
   "execution_count": 65,
   "metadata": {},
   "outputs": [
    {
     "data": {
      "image/png": "[encoded data removed]",
      "text/plain": [
       "<Figure size 576x360 with 1 Axes>"
      ]
     },
     "metadata": {
      "needs_background": "light"
     },
     "output_type": "display_data"
    }
   ],
   "source": [
    "fig, ax = plt.subplots(1, 1, figsize=(8, 5))\n",
    "\n",
    "s3_diff_max.plot(ax=ax, color='b')\n",
    "e3_diff_max.plot(ax=ax, color='g')\n",
    "i3_diff_max.plot(ax=ax, color='r')\n",
    "r3_diff_max.plot(ax=ax, color='k')\n",
    "\n",
    "plt.legend((\"S\", \"E\", \"I\", \"R\"), loc=0)\n",
    "plt.xlabel(\"Time\")\n",
    "plt.xticks(rotation=45)\n",
    "plt.title(\"Three Local, One Contextual vs Baseline Mixing = 10.2 contacts/person/day\")\n",
    "plt.tight_layout()\n",
    "plt.ylabel(\"N Partition - N Baseline\")\n",
    "plt.axhline(y=0, c='gray', ls='dotted')\n",
    "ax.set_ylim(-2, 3)\n",
    "\n",
    "plt.show()"
   ]
  },
  {
   "cell_type": "markdown",
   "metadata": {},
   "source": [
    "# 16 Nodes"
   ]
  },
  {
   "cell_type": "code",
   "execution_count": 66,
   "metadata": {},
   "outputs": [
    {
     "name": "stdout",
     "output_type": "stream",
     "text": [
      "mismatched partitioned and baseline contacts\n",
      "age_i                                 young\n",
      "age_j                                 young\n",
      "partitioned_per_capita_contacts    0.824801\n",
      "age1                                  young\n",
      "age2                                  young\n",
      "daily_per_capita_contacts                 5\n",
      "Name: 1, dtype: object\n"
     ]
    }
   ],
   "source": [
    "travel16 = pd.read_csv('inputs/travel16.csv')\n",
    "partition16 = partition_contacts(travel16, contact, daily_timesteps=10)\n",
    "phi_matrix16 = contact_matrix(partition16)\n",
    "pop_s16, pop_e16, pop_i16, pop_r16 = update_start_pop(travel16)\n",
    "\n",
    "test16 = deepcopy(params_template)\n",
    "test16['phi'] = phi_matrix16\n",
    "test16['start_S'] = pop_s16\n",
    "test16['start_E'] = pop_e16\n",
    "test16['start_I'] = pop_i16\n",
    "test16['start_R'] = pop_r16\n",
    "test16['n_nodes'] = 16\n",
    "\n",
    "ref16 = deepcopy(params_template)\n",
    "ref16['phi'] = [[[[5/10, 0], [0, 0]]]]\n",
    "ref16_s = np.array([sorted(travel16.groupby(['age_src'])['n'].sum(), reverse=True)])\n",
    "ref16['start_S'] = ref16_s[0, 0] - 16\n",
    "ref16['start_E'] = np.array([[0, 0]])\n",
    "ref16['start_I'] = np.array([[16, 0]])\n",
    "ref16['start_R'] = np.array([[0, 0]])\n",
    "ref16['n_nodes'] = 1\n",
    "\n",
    "test16_model = SEIR(test16)\n",
    "test16_model.seir()\n",
    "\n",
    "ref16_model = SEIR(ref16)\n",
    "ref16_model.seir()"
   ]
  },
  {
   "cell_type": "code",
   "execution_count": 67,
   "metadata": {},
   "outputs": [
    {
     "data": {
      "text/plain": [
       "array([[425,   0]])"
      ]
     },
     "execution_count": 67,
     "metadata": {},
     "output_type": "execute_result"
    }
   ],
   "source": [
    "ref16_s"
   ]
  },
  {
   "cell_type": "code",
   "execution_count": 68,
   "metadata": {},
   "outputs": [
    {
     "name": "stdout",
     "output_type": "stream",
     "text": [
      "Differing values for exposed timeseries.\n",
      "Differing values for infected timeseries.\n",
      "Differing values for recovered timeseries.\n"
     ]
    }
   ],
   "source": [
    "s16_diff_max, e16_diff_max, i16_diff_max, r16_diff_max = test_partition(test16_model, ref16_model, atol=0.1, rtol=0.09)\n"
   ]
  },
  {
   "cell_type": "code",
   "execution_count": 69,
   "metadata": {},
   "outputs": [
    {
     "data": {
      "image/png": "[encoded data removed]",
      "text/plain": [
       "<Figure size 576x360 with 1 Axes>"
      ]
     },
     "metadata": {
      "needs_background": "light"
     },
     "output_type": "display_data"
    }
   ],
   "source": [
    "fig, ax = plt.subplots(1, 1, figsize=(8, 5))\n",
    "\n",
    "s16_diff_max.plot(ax=ax, color='b')\n",
    "e16_diff_max.plot(ax=ax, color='g')\n",
    "i16_diff_max.plot(ax=ax, color='r')\n",
    "r16_diff_max.plot(ax=ax, color='k')\n",
    "\n",
    "plt.legend((\"S\", \"E\", \"I\", \"R\"), loc=0)\n",
    "plt.xlabel(\"Time\")\n",
    "plt.xticks(rotation=45)\n",
    "plt.title(\"16 Local, One Contextual vs Baseline Mixing = 5 contacts/person/day\")\n",
    "plt.tight_layout()\n",
    "plt.ylabel(\"N Partition - N Baseline\")\n",
    "plt.axhline(y=0, c='gray', ls='dotted')\n",
    "#ax.set_ylim(-2, 3)\n",
    "\n",
    "plt.show()"
   ]
  },
  {
   "cell_type": "code",
   "execution_count": null,
   "metadata": {},
   "outputs": [],
   "source": []
  }
 ],
 "metadata": {
  "kernelspec": {
   "display_name": "seir_ex_venv",
   "language": "python",
   "name": "seir_ex_venv"
  },
  "language_info": {
   "codemirror_mode": {
    "name": "ipython",
    "version": 3
   },
   "file_extension": ".py",
   "mimetype": "text/x-python",
   "name": "python",
   "nbconvert_exporter": "python",
   "pygments_lexer": "ipython3",
   "version": "3.7.9"
  }
 },
 "nbformat": 4,
 "nbformat_minor": 4
}
